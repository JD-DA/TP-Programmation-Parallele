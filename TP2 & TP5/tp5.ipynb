{
 "cells": [
  {
   "cell_type": "markdown",
   "id": "dbbb0804",
   "metadata": {},
   "source": [
    "# TP5 MPI Calcul Stencil avec l'environnement de programmation EasyPAP\n",
    "## M1 informatique, Université d'Orléans 2021/2022"
   ]
  },
  {
   "cell_type": "markdown",
   "id": "d337159e",
   "metadata": {},
   "source": [
    "L'objectif de ce TP est d'utiliser l'environnement [EasyPAP](https://gforgeron.gitlab.io/easypap/) pour mettre en place une première simulation du *jeu de la vie* de J. Conway et d'utiliser les outils de visualisation des traces EasyPAP pour observer son fonctionnement."
   ]
  },
  {
   "cell_type": "markdown",
   "id": "8244cab6",
   "metadata": {},
   "source": [
    "## 1. L'exemple *spin* "
   ]
  },
  {
   "cell_type": "markdown",
   "id": "edf7b835",
   "metadata": {},
   "source": [
    "Pour programmer en MPI avec EasyPAP à partir d'un noyau (*kernel*) il faut définir une variante *compute* adaptée à MPI. Il va falloir également initialiser l'environnement MPI qui permettra en particulier de définir les identifiants des processus et le nombre de processus de l'exécution parallèle."
   ]
  },
  {
   "cell_type": "markdown",
   "id": "ad777beb",
   "metadata": {},
   "source": [
    "### Fonction d'initialisation de l'environnement MPI"
   ]
  },
  {
   "cell_type": "markdown",
   "id": "9915c434",
   "metadata": {},
   "source": [
    "Il faut définir une fonction d'initialisation qui sera exécutée par EasyPAP et à partir de variables globales cette fonction permettra également de définir différentes valeurs comme l'identifiant du processus. Le nom de cette fonction dépend du kernel. Par exemple pour *spin* on pourra utiliser le code ci-dessous."
   ]
  },
  {
   "cell_type": "markdown",
   "id": "b769d4ae",
   "metadata": {},
   "source": [
    "~~~C\n",
    "static int mpi_rank = -1;\n",
    "static int mpi_size = -1;\n",
    "\n",
    "void spin_init_mpi(void)\n",
    "{\n",
    "  easypap_check_mpi();\n",
    "  MPI_Comm_rank(MPI_COMM_WORLD, &mpi_rank);\n",
    "  MPI_Comm_size(MPI_COMM_WORLD, &mpi_size);\n",
    "}\n",
    "~~~\n",
    "\n",
    "### Variant du kernel"
   ]
  },
  {
   "cell_type": "markdown",
   "id": "bd31be9c",
   "metadata": {},
   "source": [
    "Pour l'exemple spin, on souhaite paralléliser le calcul des nouvelles images en répartissant le calcul des pixels sur les différents processus. \n"
   ]
  },
  {
   "cell_type": "raw",
   "id": "a5098189",
   "metadata": {
    "lines_to_next_cell": 2
   },
   "source": [
    "Q1. Quel sera le principe de la parallélisation si on conserve le découpage des données en tuiles (vous reportez au TP2 pour un rappel sur les tuiles) ?\n",
    "\n",
    "on va communiquer les tuiles aux differents processus...\n",
    "\n",
    "Q2. Quel format allez vous choisir pour les tuiles ?\n",
    "\n",
    "bandes ?\n",
    "\n",
    "Q3. Complétez l'implémentation du variant suivant :"
   ]
  },
  {
   "cell_type": "markdown",
   "id": "072849e7",
   "metadata": {},
   "source": [
    "~~~C\n",
    "unsigned spin_compute_mpi(unsigned nb_iter)\n",
    "{\n",
    "  for (unsigned it=1; it<=nb_iter; it++) {\n",
    "    do_tile(?,?,?,?,0);\n",
    "    rotate();\n",
    "  }\n",
    "  // Ici le rassemblement des données pour l'affichage\n",
    "  return 0;\n",
    "}\n",
    "~~~"
   ]
  },
  {
   "cell_type": "markdown",
   "id": "1230ab63",
   "metadata": {},
   "source": [
    "### ⚠️ Attention"
   ]
  },
  {
   "cell_type": "markdown",
   "id": "e80bf020",
   "metadata": {},
   "source": [
    "EasyPAP fournit une variable prédéfinie *cur\\_img* qui permet de construire une image et de la manipuler. *cur\\_img* est en fait une macro qui permet d'accéder aux pixels d'une image qui est stockée dans la variable prédéfinie *image*. Ainsi pour modifier les pixels vous pouvez utiliser *cur\\_img* mais pour les routines de communication MPI, l'argument à donner c'est *image* avec le type MPI_INT. De même pour *next\\_img* et *alt_image* avec la fonction *swap\\_images()* prédéfinie pour échanger les 2 images dans un calcul itératif par exemple. Pour le premier exemple spin seul *cur\\_img* et *image* sont utilisés."
   ]
  },
  {
   "cell_type": "markdown",
   "id": "bcba1e4b",
   "metadata": {},
   "source": [
    "### ⚠️ Attention 2"
   ]
  },
  {
   "cell_type": "markdown",
   "id": "aacc771c",
   "metadata": {},
   "source": [
    "EasyPAP lors de l'initialisation de MPI initialise également une image complète sur tous les processus de l'exécution parallèle. Ainsi *image* sera de taille `DIM x DIM` sur tous les processus. Si on utilise l'option `--load-image` ou `-l` chaque processus disposera d'un tableau *image* initialisé avec l'image donnée en argument."
   ]
  },
  {
   "cell_type": "markdown",
   "id": "43d0feed",
   "metadata": {},
   "source": [
    "### Exécution du kernel, variant MPI"
   ]
  },
  {
   "cell_type": "markdown",
   "id": "81cbeea6",
   "metadata": {},
   "source": [
    "L'exécution du kernel en version MPI demande un argument supplémentaire pour indiquer le mode de lancement MPI qu'on souhaite utiliser : "
   ]
  },
  {
   "cell_type": "markdown",
   "id": "da045252",
   "metadata": {},
   "source": [
    "~~~sh\n",
    "$ ./run -k spin -v mpi --mpirun \"-np 2\"\n",
    "~~~"
   ]
  },
  {
   "cell_type": "raw",
   "id": "51cbf740",
   "metadata": {},
   "source": [
    "Q4. Observez les retours offerts par EasyPAP lorsqu'on utilise l'option --debug-flags"
   ]
  },
  {
   "cell_type": "markdown",
   "id": "74db0cf7",
   "metadata": {},
   "source": [
    "~~~sh\n",
    "$ ./run -k spin -v mpi --mpirun \"-np 4\" --debug-flags M\n",
    "~~~"
   ]
  },
  {
   "cell_type": "raw",
   "id": "4ee4b0d9",
   "metadata": {},
   "source": [
    "Q5. EasyPAP permet également de générer des traces de l'exécution que l'on peut visualiser et analysez lorsque cette exécution est terminée."
   ]
  },
  {
   "cell_type": "markdown",
   "id": "0d11167d",
   "metadata": {},
   "source": [
    "~~~sh\n",
    "$ ./run -k spin -v mpi --mpirun \"-np 4\" --trace --no-display -i 10 --thumbnails\n",
    "~~~"
   ]
  },
  {
   "cell_type": "markdown",
   "id": "48f61e83",
   "metadata": {},
   "source": [
    "Pour visualiser les traces il faut utiliser la commande ci-dessous où xx est à remplacer par le numéro du processus \n",
    "qui vous intéresse. On ne peut utiliser *view* qu'avec au plus 2 arguments. La navigation dans les traces se fait avec des commandes clavier/souris (cf la manuel [Getting Started](https://gforgeron.gitlab.io/easypap/doc/Getting_Started.pdf)). Par exemple pour aligner les données des deux traces vous pouvez *presser le bouton a*."
   ]
  },
  {
   "cell_type": "markdown",
   "id": "ca651614",
   "metadata": {},
   "source": [
    "~~~sh\n",
    "$ ./view traces/data/ezv_trace_current.xx.evt traces/data/ezv_trace_current_xx.evt\n",
    "~~~"
   ]
  },
  {
   "cell_type": "markdown",
   "id": "78a1c749",
   "metadata": {},
   "source": [
    "## 2. Jeu de la vie"
   ]
  },
  {
   "cell_type": "markdown",
   "id": "1a1bf1fa",
   "metadata": {},
   "source": [
    "Récupérez sur Celene l'archive `src.tgz` contenant un nouveau noyau `gameimage` et un dossier `images`. Ce noyau contient une première version (`-v seq`) qui met en œuvre le jeu de la vie. Vous devez copier le fichier `gameimage.c` dans le répertoire `kernel/c/` et vous pouvez également copier les images dans le répertoire `images/` d'EasyPAP."
   ]
  },
  {
   "cell_type": "markdown",
   "id": "2dc81071",
   "metadata": {},
   "source": [
    "Le point de départ de ce jeu de la vie est une image qu'il faut charger au lancement du kernel."
   ]
  },
  {
   "cell_type": "markdown",
   "id": "4e6abd95",
   "metadata": {},
   "source": [
    "Après avoir compilé vous pourrez tester la version séquentielle avec \n",
    "\n",
    "~~~sh\n",
    "$ ./run -k gameimage -v seq -l images/im_64.png\n",
    "~~~"
   ]
  },
  {
   "cell_type": "raw",
   "id": "b4c0c45d",
   "metadata": {
    "lines_to_next_cell": 2
   },
   "source": [
    "Q6. Implémentez une version MPI de ce jeu de la vie. \n",
    "Q7. Utilisez les outils EasyPAP pour observer la répartition des calculs sur les différents processus."
   ]
  },
  {
   "cell_type": "markdown",
   "id": "43c944de",
   "metadata": {},
   "source": [
    "## Références"
   ]
  },
  {
   "cell_type": "markdown",
   "id": "75db6aa2",
   "metadata": {},
   "source": [
    " 1. [Spécification MPI](https://www.mpi-forum.org/docs/)\n",
    " 1. [Documentation officielle d'EasyPAP](https://gforgeron.gitlab.io/easypap/doc/Getting_Started.pdf)"
   ]
  }
 ],
 "metadata": {
  "kernelspec": {
   "display_name": "Python 3 (ipykernel)",
   "language": "python",
   "name": "python3"
  },
  "language_info": {
   "codemirror_mode": {
    "name": "ipython",
    "version": 3
   },
   "file_extension": ".py",
   "mimetype": "text/x-python",
   "name": "python",
   "nbconvert_exporter": "python",
   "pygments_lexer": "ipython3",
   "version": "3.8.10"
  }
 },
 "nbformat": 4,
 "nbformat_minor": 5
}
