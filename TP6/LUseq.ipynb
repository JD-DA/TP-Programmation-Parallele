{
 "cells": [
  {
   "cell_type": "markdown",
   "metadata": {},
   "source": [
    "# Décomposition LU d'une matrice $n\\times n$\n",
    "\n",
    "L'objectif de cette fiche est de vous aider à comprendre les étapes de la factorisation LU. Les différentes étapes sont détaillées à l'aide de codes Python qui permettent de les exécuter.\n",
    "\n",
    "La section qui suit définit quelques fonctions Python bien pratiques... inutile de la lire 😄.\n"
   ]
  },
  {
   "cell_type": "markdown",
   "metadata": {},
   "source": [
    "## 0. Préliminaire Python"
   ]
  },
  {
   "cell_type": "code",
   "execution_count": 1,
   "metadata": {},
   "outputs": [],
   "source": [
    "from numpy.matlib import int32, float32\n",
    "from numpy.linalg import inv, det, solve\n",
    "from numpy.matlib import identity, mat, zeros\n",
    "from random import randint\n",
    "from IPython.display import display, HTML\n",
    "\n",
    "def z(x):\n",
    "    return abs(x)<1e-6\n",
    "\n",
    "def nz(x):\n",
    "    return not z(x)\n",
    "\n",
    "def prod(M, *MS):\n",
    "    R = M\n",
    "    for X in MS:\n",
    "        R = R * X\n",
    "    return R\n",
    "\n",
    "def rmat(n):\n",
    "    \"génère une matrix [n]x[n] décomposable LU entière\"\n",
    "    while True:\n",
    "        L = identity(n,float)\n",
    "        for i in range(n):\n",
    "            for j in range(i):\n",
    "                L[i,j] = randint(1,10)\n",
    "        U = identity(n,float)\n",
    "        for i in range(n):\n",
    "            for j in range(i,n):\n",
    "                U[i,j] = randint(1,10)\n",
    "        A = L*U\n",
    "        if nz(det(A)):\n",
    "            return L*U\n",
    "    \n",
    "def latex(A):\n",
    "    if type(A) is str:\n",
    "        return A\n",
    "    if type(A) is list:\n",
    "        return r\"\\underbrace{\" + r\"\\times \".join(map(latex,A)) + r\"}_{\\displaystyle\" + latex(prod(*A)) + r\"}\"\n",
    "    n=A.shape[0]\n",
    "    s=r\"\\begin{pmatrix}\"\n",
    "    c=[]\n",
    "    for i in range(n):\n",
    "        l=[]\n",
    "        for j in range(n):\n",
    "            l.append(\"%g\" % A[i,j])\n",
    "        c.append('&'.join(l))\n",
    "    return s+r\"\\\\\".join(c)+r\"\\end{pmatrix}\"\n",
    "    \n",
    "def showlatex(s):\n",
    "    display(HTML(r\"$$\" + s + r\"$$\"))\n",
    "    \n",
    "def show(A, *BS, online=False):\n",
    "    if not BS:\n",
    "        showlatex(latex(A))\n",
    "    else:\n",
    "        showlatex(r\"\\begin{eqnarray}\" + latex(A) + r\"&=&\" + (r\"=\" if online else r\"\\\\&=&\").join([ r\"\\times \".join(map(latex,B)) for B in BS ]) + r\"\\end{eqnarray}\")\n",
    "        "
   ]
  },
  {
   "cell_type": "markdown",
   "metadata": {},
   "source": [
    "## 1. Principe de la décomposition $LU$\n",
    "\n",
    "Une matrice $A$ est décomposable en une factorisation $A = LU$ s'il existe une matrice triangulaire inférieure $L$ avec uniquement la valeur $1$ sur la diagonale et une matrice triangulaire supérieure $U$ telles que $A = LU$. Lorsqu'elle existe et que $A$ est inversible, cette factorisation est unique.\n",
    "\n",
    "Prenons une telle matrice $A$ de taille $n\\times n$ (le choix de $A$ change si on réexécute cette cellule) :"
   ]
  },
  {
   "cell_type": "code",
   "execution_count": 2,
   "metadata": {},
   "outputs": [
    {
     "data": {
      "text/html": [
       "$$\\begin{eqnarray}A&=&\\begin{pmatrix}6&5&6&9\\\\12&19&19&28\\\\48&112&111&157\\\\36&39&99&105\\end{pmatrix}\\end{eqnarray}$$"
      ],
      "text/plain": [
       "<IPython.core.display.HTML object>"
      ]
     },
     "metadata": {},
     "output_type": "display_data"
    }
   ],
   "source": [
    "A=rmat(4)\n",
    "show(\"A\",[A])"
   ]
  },
  {
   "cell_type": "markdown",
   "metadata": {},
   "source": [
    "Pour calculer les matrices $L$ et $U$, on peut procéder séquentiellement en construisant une suite de paires de matrices $(L_i,U_i)$ pour $i$ allant de $0$ à $n-1$ de sorte qu'à chaque étape $A = L_i\\times U_i$. \n",
    "\n",
    "On part de la paire $L_0=\\operatorname{Id}$ et $U_0=A$ jusqu'à arriver à $L_{n-1}=L$ et $U_{n-1}=U$. \n",
    "\n",
    "Toutes les matrices $L_i$ sont triangulaires inférieures avec uniquement la valeur $1$ sur la diagonale.\n",
    "\n",
    "À l'étape $i$, on construit $L_i$ et $U_i$ à partir de $L_{i-1}$ et $U_{i-1}$ de sorte que les $i$ premières colonnes de $U_{i-1}$ soient en forme triangulaire supérieure (la colonne $i$ porte des $0$ pour les indices supérieurs à $i$). Pour cela, on annule successivement les $n-i$ éléments de la colonne $i$ à l'aide du pivot de Gauss et de la remarque suivante. Si $A = L_{i-1} U_{i-1}$ et que $P$ est une matrice inversible alors on a :\n",
    "$$\\begin{eqnarray}\n",
    "A &=& L_{i-1} \\times U_{i-1} \\\\\n",
    "A &=& L_{i-1} \\times \\operatorname{Id} \\times U_{i-1} \\\\\n",
    "A &=& L_{i-1} \\times \\left( P^{-1} \\times P \\right) \\times U_{i-1} \\\\\n",
    "A &=& \\left( L_{i-1} \\times P^{-1} \\right) \\times \\left( P  \\times U_{i-1} \\right) \\\\\n",
    "\\end{eqnarray}$$\n",
    "\n",
    "En choisissant une matrice $P$, produit de pivots, qui nettoie la $i$ème colonne de $U_{i-1}$ et en supposant que $P^{-1}$ préserve les propriétés attendues pour $L_i$, c'est gagné !"
   ]
  },
  {
   "cell_type": "markdown",
   "metadata": {},
   "source": [
    "## 2. Un pivot, des pivots\n",
    "\n",
    "Notons $P_{l_i \\leftarrow l_i + \\alpha l_j}$ la matrice pivot qui lorsqu'on la multiplie à gauche d'une matrice $M$ produit la matrice $M'$ identique à $M$ sauf pour sa $i$ème ligne qui est la $i$ème ligne de $M$ à laquelle on a ajouté $\\alpha$ fois sa $j$ème ligne. Il s'agit d'une matrice identité dont on modifie l'élément en position $(j,i)$ pour qu'il soit égal à $\\alpha$. Voici un exemple :"
   ]
  },
  {
   "cell_type": "code",
   "execution_count": 3,
   "metadata": {},
   "outputs": [
    {
     "data": {
      "text/html": [
       "$$\\begin{eqnarray}\\operatorname{P}_{l_1 \\leftarrow l_1 + 3 l_0}&=&\\begin{pmatrix}1&0&0&0\\\\3&1&0&0\\\\0&0&1&0\\\\0&0&0&1\\end{pmatrix}\\end{eqnarray}$$"
      ],
      "text/plain": [
       "<IPython.core.display.HTML object>"
      ]
     },
     "metadata": {},
     "output_type": "display_data"
    },
    {
     "data": {
      "text/html": [
       "$$\\begin{eqnarray}\\begin{pmatrix}1&7&2&8\\\\8&61&26&71\\\\7&59&42&73\\\\2&64&176&119\\end{pmatrix}&=&\\begin{pmatrix}1&0&0&0\\\\3&1&0&0\\\\0&0&1&0\\\\0&0&0&1\\end{pmatrix}\\times \\begin{pmatrix}1&7&2&8\\\\5&40&20&47\\\\7&59&42&73\\\\2&64&176&119\\end{pmatrix}\\end{eqnarray}$$"
      ],
      "text/plain": [
       "<IPython.core.display.HTML object>"
      ]
     },
     "metadata": {},
     "output_type": "display_data"
    }
   ],
   "source": [
    "def pivot(n, k, i, j):\n",
    "    \"\"\"Matrice [n]x[n] qui ajoute [k] fois la ligne [i] à la ligne [j]\"\"\"\n",
    "    M = identity(n, float)\n",
    "    M[j,i] = k\n",
    "    return M\n",
    "\n",
    "P = pivot(4,3,0,1)\n",
    "show(r\"\\operatorname{P}_{l_1 \\leftarrow l_1 + 3 l_0}\", [P])\n",
    "M = rmat(4)\n",
    "show(P*M, [P, M])"
   ]
  },
  {
   "cell_type": "markdown",
   "metadata": {},
   "source": [
    "Ce paramètre $k$ peut être défini afin de générer un 0 dans le résultat. Par exemple si on choisit $k=-\\frac{M_{10}}{M_{00}}$ ou $k=-\\frac{M_{20}}{M_{00}}$"
   ]
  },
  {
   "cell_type": "code",
   "execution_count": 4,
   "metadata": {},
   "outputs": [
    {
     "data": {
      "text/html": [
       "$$\\begin{pmatrix}4&4&9&8\\\\36&46&83&81\\\\24&104&77&130\\\\32&62&85&104\\end{pmatrix}$$"
      ],
      "text/plain": [
       "<IPython.core.display.HTML object>"
      ]
     },
     "metadata": {},
     "output_type": "display_data"
    },
    {
     "data": {
      "text/html": [
       "$$\\begin{eqnarray}\\begin{pmatrix}4&4&9&8\\\\0&10&2&9\\\\24&104&77&130\\\\32&62&85&104\\end{pmatrix}&=&\\begin{pmatrix}1&0&0&0\\\\-9&1&0&0\\\\0&0&1&0\\\\0&0&0&1\\end{pmatrix}\\times \\begin{pmatrix}4&4&9&8\\\\36&46&83&81\\\\24&104&77&130\\\\32&62&85&104\\end{pmatrix}\\end{eqnarray}$$"
      ],
      "text/plain": [
       "<IPython.core.display.HTML object>"
      ]
     },
     "metadata": {},
     "output_type": "display_data"
    },
    {
     "data": {
      "text/html": [
       "$$\\begin{eqnarray}\\begin{pmatrix}4&4&9&8\\\\36&46&83&81\\\\0&80&23&82\\\\32&62&85&104\\end{pmatrix}&=&\\begin{pmatrix}1&0&0&0\\\\0&1&0&0\\\\-6&0&1&0\\\\0&0&0&1\\end{pmatrix}\\times \\begin{pmatrix}4&4&9&8\\\\36&46&83&81\\\\24&104&77&130\\\\32&62&85&104\\end{pmatrix}\\end{eqnarray}$$"
      ],
      "text/plain": [
       "<IPython.core.display.HTML object>"
      ]
     },
     "metadata": {},
     "output_type": "display_data"
    }
   ],
   "source": [
    "M = rmat(4)\n",
    "show(M)\n",
    "a = -M[1,0]/M[0,0]\n",
    "P = pivot(4,a,0,1)\n",
    "show(P*M, [P, M])\n",
    "a = -M[2,0]/M[0,0]\n",
    "P = pivot(4,a,0,2)\n",
    "show(P*M, [P, M])"
   ]
  },
  {
   "cell_type": "markdown",
   "metadata": {},
   "source": [
    "Lorsque $i\\neq j$, l'inverse de $P_{l_i \\leftarrow l_i + \\alpha l_j}$ n'est pas très difficile à calculer, c'est $P_{l_i \\leftarrow l_i - \\alpha l_j}$ :"
   ]
  },
  {
   "cell_type": "code",
   "execution_count": 5,
   "metadata": {
    "scrolled": true
   },
   "outputs": [
    {
     "data": {
      "text/html": [
       "$$\\begin{eqnarray}\\operatorname{P}^{-1}_{l_1 \\leftarrow l_1 + 3 l_0}&=&\\begin{pmatrix}1&0&0&0\\\\-3&1&-0&-0\\\\0&0&1&0\\\\0&0&0&1\\end{pmatrix}=\\begin{pmatrix}1&0&0&0\\\\-3&1&0&0\\\\0&0&1&0\\\\0&0&0&1\\end{pmatrix}=\\operatorname{P}_{l_1 \\leftarrow l_1 - 3 l_0}\\end{eqnarray}$$"
      ],
      "text/plain": [
       "<IPython.core.display.HTML object>"
      ]
     },
     "metadata": {},
     "output_type": "display_data"
    }
   ],
   "source": [
    "PP = inv(P)\n",
    "show(r\"\\operatorname{P}^{-1}_{l_1 \\leftarrow l_1 + 3 l_0}\", [inv(pivot(4, 3, 0, 1))], [pivot(4,-3,0,1)], [r\"\\operatorname{P}_{l_1 \\leftarrow l_1 - 3 l_0}\"],online=True)"
   ]
  },
  {
   "cell_type": "markdown",
   "metadata": {},
   "source": [
    "Le produit de pivots travaillant sur des lignes différentes se passe aussi très bien et leur inverse n'est pas plus difficile à calculer (c'est le produit de leurs inverses qui sont eux-même des pivots donc...) :"
   ]
  },
  {
   "cell_type": "code",
   "execution_count": 6,
   "metadata": {
    "scrolled": true
   },
   "outputs": [
    {
     "data": {
      "text/html": [
       "$$\\begin{eqnarray}\\begin{pmatrix}1&0&0&0\\\\3&1&0&0\\\\2&0&1&0\\\\5&0&0&1\\end{pmatrix}&=&\\begin{pmatrix}1&0&0&0\\\\3&1&0&0\\\\0&0&1&0\\\\0&0&0&1\\end{pmatrix}\\times \\begin{pmatrix}1&0&0&0\\\\0&1&0&0\\\\2&0&1&0\\\\0&0&0&1\\end{pmatrix}\\times \\begin{pmatrix}1&0&0&0\\\\0&1&0&0\\\\0&0&1&0\\\\5&0&0&1\\end{pmatrix}\\end{eqnarray}$$"
      ],
      "text/plain": [
       "<IPython.core.display.HTML object>"
      ]
     },
     "metadata": {},
     "output_type": "display_data"
    },
    {
     "data": {
      "text/html": [
       "$$\\begin{eqnarray}\\begin{pmatrix}1&0&0&0\\\\3&1&0&0\\\\2&0&1&0\\\\5&0&0&1\\end{pmatrix}^{-1}&=&\\begin{pmatrix}1&0&0&0\\\\-3&1&0&0\\\\-2&0&1&0\\\\-5&-0&-0&1\\end{pmatrix}=\\begin{pmatrix}1&0&0&0\\\\0&1&0&0\\\\0&0&1&0\\\\-5&0&0&1\\end{pmatrix}\\times \\begin{pmatrix}1&0&0&0\\\\0&1&0&0\\\\-2&0&1&0\\\\0&0&0&1\\end{pmatrix}\\times \\begin{pmatrix}1&0&0&0\\\\-3&1&0&0\\\\0&0&1&0\\\\0&0&0&1\\end{pmatrix}=\\begin{pmatrix}1&0&0&0\\\\-3&1&0&0\\\\-2&0&1&0\\\\-5&0&0&1\\end{pmatrix}\\end{eqnarray}$$"
      ],
      "text/plain": [
       "<IPython.core.display.HTML object>"
      ]
     },
     "metadata": {},
     "output_type": "display_data"
    }
   ],
   "source": [
    "MS = [pivot(4, 3, 0, 1), pivot(4, 2, 0, 2), pivot(4, 5, 0, 3)]\n",
    "M = prod(*MS)\n",
    "show(M, MS)\n",
    "invMS = [pivot(4, -5, 0, 3), pivot(4, -2, 0, 2), pivot(4, -3, 0, 1)]\n",
    "show(latex(M)+r\"^{-1}\", [inv(M)], invMS, [prod(*invMS)], online=True)"
   ]
  },
  {
   "cell_type": "markdown",
   "metadata": {},
   "source": [
    "## 3. Récapitulons sur notre exemple\n",
    "\n",
    "Nous avons maintenant tout ce qu'il faut pour décomposer notre matrice initiale :"
   ]
  },
  {
   "cell_type": "code",
   "execution_count": 7,
   "metadata": {},
   "outputs": [
    {
     "data": {
      "text/html": [
       "$$\\begin{eqnarray}A&=&\\begin{pmatrix}6&5&6&9\\\\12&19&19&28\\\\48&112&111&157\\\\36&39&99&105\\end{pmatrix}\\end{eqnarray}$$"
      ],
      "text/plain": [
       "<IPython.core.display.HTML object>"
      ]
     },
     "metadata": {},
     "output_type": "display_data"
    }
   ],
   "source": [
    "show(\"A\",[A])"
   ]
  },
  {
   "cell_type": "markdown",
   "metadata": {},
   "source": [
    "On commence par définir $L_0$ et $U_0$ :"
   ]
  },
  {
   "cell_type": "code",
   "execution_count": 8,
   "metadata": {},
   "outputs": [
    {
     "data": {
      "text/html": [
       "$$\\begin{eqnarray}L_0&=&\\begin{pmatrix}1&0&0&0\\\\0&1&0&0\\\\0&0&1&0\\\\0&0&0&1\\end{pmatrix}\\end{eqnarray}$$"
      ],
      "text/plain": [
       "<IPython.core.display.HTML object>"
      ]
     },
     "metadata": {},
     "output_type": "display_data"
    },
    {
     "data": {
      "text/html": [
       "$$\\begin{eqnarray}U_0&=&\\begin{pmatrix}6&5&6&9\\\\12&19&19&28\\\\48&112&111&157\\\\36&39&99&105\\end{pmatrix}\\end{eqnarray}$$"
      ],
      "text/plain": [
       "<IPython.core.display.HTML object>"
      ]
     },
     "metadata": {},
     "output_type": "display_data"
    }
   ],
   "source": [
    "Id = identity(4)\n",
    "L0 = Id\n",
    "show(\"L_0\",[L0])\n",
    "U0 = A\n",
    "show(\"U_0\",[U0])"
   ]
  },
  {
   "cell_type": "markdown",
   "metadata": {},
   "source": [
    "### Colonne 0\n",
    "\n",
    "On construit d'abord la matrice $P_0$ qui annule les 3 derniers éléments de la $0$ième colonne de $U_0$ :"
   ]
  },
  {
   "cell_type": "code",
   "execution_count": 9,
   "metadata": {},
   "outputs": [
    {
     "data": {
      "text/html": [
       "$$\\begin{eqnarray}\\begin{pmatrix}1&0&0&0\\\\-2&1&0&0\\\\-8&0&1&0\\\\-6&0&0&1\\end{pmatrix}&=&\\begin{pmatrix}1&0&0&0\\\\-2&1&0&0\\\\0&0&1&0\\\\0&0&0&1\\end{pmatrix}\\times \\begin{pmatrix}1&0&0&0\\\\0&1&0&0\\\\-8&0&1&0\\\\0&0&0&1\\end{pmatrix}\\times \\begin{pmatrix}1&0&0&0\\\\0&1&0&0\\\\0&0&1&0\\\\-6&0&0&1\\end{pmatrix}\\end{eqnarray}$$"
      ],
      "text/plain": [
       "<IPython.core.display.HTML object>"
      ]
     },
     "metadata": {},
     "output_type": "display_data"
    },
    {
     "data": {
      "text/html": [
       "$$\\begin{eqnarray}\\begin{pmatrix}1&0&0&0\\\\-2&1&0&0\\\\-8&0&1&0\\\\-6&0&0&1\\end{pmatrix}^{-1}&=&\\begin{pmatrix}1&0&0&0\\\\0&1&0&0\\\\0&0&1&0\\\\6&0&0&1\\end{pmatrix}\\times \\begin{pmatrix}1&0&0&0\\\\0&1&0&0\\\\8&0&1&0\\\\0&0&0&1\\end{pmatrix}\\times \\begin{pmatrix}1&0&0&0\\\\2&1&0&0\\\\0&0&1&0\\\\0&0&0&1\\end{pmatrix}=\\begin{pmatrix}1&0&0&0\\\\2&1&0&0\\\\8&0&1&0\\\\6&0&0&1\\end{pmatrix}\\end{eqnarray}$$"
      ],
      "text/plain": [
       "<IPython.core.display.HTML object>"
      ]
     },
     "metadata": {},
     "output_type": "display_data"
    }
   ],
   "source": [
    "c = U0[0,0]\n",
    "PS0 = [Id]\n",
    "invPS0 = [Id]\n",
    "if nz(c): ## On évite le cas pathologique où toute la colonne est à 0\n",
    "    PS0 = [ pivot(4, -U0[i,0]/c, 0, i) for i in range(1,4) if nz(U0[i,0]) ]\n",
    "    invPS0 = [ pivot(4, U0[i,0]/c, 0, i) for i in range(3,0,-1) if nz(U0[i,0]) ]\n",
    "P0 = prod(Id, *PS0)\n",
    "invP0 = prod(Id, *invPS0)\n",
    "show(P0, PS0)\n",
    "show((latex(P0) + \"^{-1}\"), invPS0, [invP0],online=True)"
   ]
  },
  {
   "cell_type": "markdown",
   "metadata": {},
   "source": [
    "Et on multiplie $L_0$ à droite par l'inverse de $P_0$ et $U_0$ à gauche par $P_0$ :"
   ]
  },
  {
   "cell_type": "code",
   "execution_count": 10,
   "metadata": {},
   "outputs": [
    {
     "data": {
      "text/html": [
       "$$\\begin{eqnarray}\\begin{pmatrix}6&5&6&9\\\\12&19&19&28\\\\48&112&111&157\\\\36&39&99&105\\end{pmatrix}&=&\\begin{pmatrix}1&0&0&0\\\\0&1&0&0\\\\0&0&1&0\\\\0&0&0&1\\end{pmatrix}\\times P_0^{-1}\\times P_0\\times \\begin{pmatrix}6&5&6&9\\\\12&19&19&28\\\\48&112&111&157\\\\36&39&99&105\\end{pmatrix}\\\\&=&\\underbrace{\\begin{pmatrix}1&0&0&0\\\\0&1&0&0\\\\0&0&1&0\\\\0&0&0&1\\end{pmatrix}\\times \\begin{pmatrix}1&0&0&0\\\\2&1&0&0\\\\8&0&1&0\\\\6&0&0&1\\end{pmatrix}}_{\\displaystyle\\begin{pmatrix}1&0&0&0\\\\2&1&0&0\\\\8&0&1&0\\\\6&0&0&1\\end{pmatrix}}\\times \\underbrace{\\begin{pmatrix}1&0&0&0\\\\-2&1&0&0\\\\-8&0&1&0\\\\-6&0&0&1\\end{pmatrix}\\times \\begin{pmatrix}6&5&6&9\\\\12&19&19&28\\\\48&112&111&157\\\\36&39&99&105\\end{pmatrix}}_{\\displaystyle\\begin{pmatrix}6&5&6&9\\\\0&9&7&10\\\\0&72&63&85\\\\0&9&63&51\\end{pmatrix}}\\end{eqnarray}$$"
      ],
      "text/plain": [
       "<IPython.core.display.HTML object>"
      ]
     },
     "metadata": {},
     "output_type": "display_data"
    }
   ],
   "source": [
    "show(A, [L0, \"P_0^{-1}\", \"P_0\", U0], [[L0, invP0], [P0, U0]])"
   ]
  },
  {
   "cell_type": "markdown",
   "metadata": {},
   "source": [
    "On obtient les matrices $L_1$ et $U_1$ pour l'étape suivante :"
   ]
  },
  {
   "cell_type": "code",
   "execution_count": 11,
   "metadata": {},
   "outputs": [
    {
     "data": {
      "text/html": [
       "$$\\begin{eqnarray}L_1&=&\\begin{pmatrix}1&0&0&0\\\\2&1&0&0\\\\8&0&1&0\\\\6&0&0&1\\end{pmatrix}\\end{eqnarray}$$"
      ],
      "text/plain": [
       "<IPython.core.display.HTML object>"
      ]
     },
     "metadata": {},
     "output_type": "display_data"
    },
    {
     "data": {
      "text/html": [
       "$$\\begin{eqnarray}U_1&=&\\begin{pmatrix}6&5&6&9\\\\0&9&7&10\\\\0&72&63&85\\\\0&9&63&51\\end{pmatrix}\\end{eqnarray}$$"
      ],
      "text/plain": [
       "<IPython.core.display.HTML object>"
      ]
     },
     "metadata": {},
     "output_type": "display_data"
    }
   ],
   "source": [
    "L1=L0*invP0\n",
    "show(\"L_1\",[L1])\n",
    "U1=P0*U0\n",
    "show(\"U_1\",[U1])"
   ]
  },
  {
   "cell_type": "markdown",
   "metadata": {},
   "source": [
    "A noter que pour générer la matrice $L_1$ comme le produit $L_0\\times P_0^{-1}$ il s'agit juste de reporter les valeurs définies pour annuler les 3 derniers éléments de la 0ième colonne de $U_0$."
   ]
  },
  {
   "cell_type": "markdown",
   "metadata": {},
   "source": [
    "### Colonne 1\n",
    "\n",
    "On construit d'abord la matrice $P_1$ qui annule les 2 derniers éléments de la $1$ième colonne de $U_1$ :"
   ]
  },
  {
   "cell_type": "code",
   "execution_count": 12,
   "metadata": {},
   "outputs": [
    {
     "data": {
      "text/html": [
       "$$\\begin{eqnarray}\\begin{pmatrix}1&0&0&0\\\\0&1&0&0\\\\0&-8&1&0\\\\0&-1&0&1\\end{pmatrix}&=&\\begin{pmatrix}1&0&0&0\\\\0&1&0&0\\\\0&-8&1&0\\\\0&0&0&1\\end{pmatrix}\\times \\begin{pmatrix}1&0&0&0\\\\0&1&0&0\\\\0&0&1&0\\\\0&-1&0&1\\end{pmatrix}\\end{eqnarray}$$"
      ],
      "text/plain": [
       "<IPython.core.display.HTML object>"
      ]
     },
     "metadata": {},
     "output_type": "display_data"
    },
    {
     "data": {
      "text/html": [
       "$$\\begin{eqnarray}\\begin{pmatrix}1&0&0&0\\\\0&1&0&0\\\\0&-8&1&0\\\\0&-1&0&1\\end{pmatrix}^{-1}&=&\\begin{pmatrix}1&0&0&0\\\\0&1&0&0\\\\0&0&1&0\\\\0&1&0&1\\end{pmatrix}\\times \\begin{pmatrix}1&0&0&0\\\\0&1&0&0\\\\0&8&1&0\\\\0&0&0&1\\end{pmatrix}=\\begin{pmatrix}1&0&0&0\\\\0&1&0&0\\\\0&8&1&0\\\\0&1&0&1\\end{pmatrix}\\end{eqnarray}$$"
      ],
      "text/plain": [
       "<IPython.core.display.HTML object>"
      ]
     },
     "metadata": {},
     "output_type": "display_data"
    }
   ],
   "source": [
    "c = U1[1,1]\n",
    "PS1 = [Id]\n",
    "invPS1 = [Id]\n",
    "if nz(c): ## On évite le cas pathologique où toute la fin de colonne est à 0\n",
    "    PS1 = [ pivot(4, -U1[i,1]/c, 1, i) for i in range(2,4) if nz(U1[i,1]) ]\n",
    "    invPS1 = [ pivot(4, U1[i,1]/c, 1, i) for i in range(3,1,-1) if nz(U1[i,1]) ]\n",
    "P1 = prod(Id, *PS1)\n",
    "invP1 = prod(Id, *invPS1)\n",
    "show(P1, PS1)\n",
    "show((latex(P1) + \"^{-1}\"), invPS1, [invP1],online=True)"
   ]
  },
  {
   "cell_type": "markdown",
   "metadata": {},
   "source": [
    "Et on multiplie $L_1$ à droite par l'inverse de $P_1$ et $U_1$ à gauche par $P_1$ :"
   ]
  },
  {
   "cell_type": "code",
   "execution_count": 13,
   "metadata": {},
   "outputs": [
    {
     "data": {
      "text/html": [
       "$$\\begin{eqnarray}\\begin{pmatrix}6&5&6&9\\\\12&19&19&28\\\\48&112&111&157\\\\36&39&99&105\\end{pmatrix}&=&\\begin{pmatrix}1&0&0&0\\\\2&1&0&0\\\\8&0&1&0\\\\6&0&0&1\\end{pmatrix}\\times P_1^{-1}\\times P_1\\times \\begin{pmatrix}6&5&6&9\\\\0&9&7&10\\\\0&72&63&85\\\\0&9&63&51\\end{pmatrix}\\\\&=&\\underbrace{\\begin{pmatrix}1&0&0&0\\\\2&1&0&0\\\\8&0&1&0\\\\6&0&0&1\\end{pmatrix}\\times \\begin{pmatrix}1&0&0&0\\\\0&1&0&0\\\\0&8&1&0\\\\0&1&0&1\\end{pmatrix}}_{\\displaystyle\\begin{pmatrix}1&0&0&0\\\\2&1&0&0\\\\8&8&1&0\\\\6&1&0&1\\end{pmatrix}}\\times \\underbrace{\\begin{pmatrix}1&0&0&0\\\\0&1&0&0\\\\0&-8&1&0\\\\0&-1&0&1\\end{pmatrix}\\times \\begin{pmatrix}6&5&6&9\\\\0&9&7&10\\\\0&72&63&85\\\\0&9&63&51\\end{pmatrix}}_{\\displaystyle\\begin{pmatrix}6&5&6&9\\\\0&9&7&10\\\\0&0&7&5\\\\0&0&56&41\\end{pmatrix}}\\end{eqnarray}$$"
      ],
      "text/plain": [
       "<IPython.core.display.HTML object>"
      ]
     },
     "metadata": {},
     "output_type": "display_data"
    }
   ],
   "source": [
    "show(A, [L1, \"P_1^{-1}\", \"P_1\", U1], [[L1, invP1], [P1, U1]])"
   ]
  },
  {
   "cell_type": "markdown",
   "metadata": {},
   "source": [
    "On obtient les matrices $L_2$ et $U_2$ pour l'étape suivante :"
   ]
  },
  {
   "cell_type": "code",
   "execution_count": 14,
   "metadata": {},
   "outputs": [
    {
     "data": {
      "text/html": [
       "$$\\begin{eqnarray}L_2&=&\\begin{pmatrix}1&0&0&0\\\\2&1&0&0\\\\8&8&1&0\\\\6&1&0&1\\end{pmatrix}\\end{eqnarray}$$"
      ],
      "text/plain": [
       "<IPython.core.display.HTML object>"
      ]
     },
     "metadata": {},
     "output_type": "display_data"
    },
    {
     "data": {
      "text/html": [
       "$$\\begin{eqnarray}U_2&=&\\begin{pmatrix}6&5&6&9\\\\0&9&7&10\\\\0&0&7&5\\\\0&0&56&41\\end{pmatrix}\\end{eqnarray}$$"
      ],
      "text/plain": [
       "<IPython.core.display.HTML object>"
      ]
     },
     "metadata": {},
     "output_type": "display_data"
    }
   ],
   "source": [
    "L2=L1*invP1\n",
    "show(\"L_2\",[L2])\n",
    "U2=P1*U1\n",
    "show(\"U_2\",[U2])"
   ]
  },
  {
   "cell_type": "markdown",
   "metadata": {},
   "source": [
    "### Colonne 2\n",
    "\n",
    "On construit d'abord la matrice $P_2$ qui annule le dernier élément de la $2$ième colonne de $U_2$ :"
   ]
  },
  {
   "cell_type": "code",
   "execution_count": 15,
   "metadata": {},
   "outputs": [
    {
     "data": {
      "text/html": [
       "$$\\begin{eqnarray}\\begin{pmatrix}1&0&0&0\\\\0&1&0&0\\\\0&0&1&0\\\\0&0&-8&1\\end{pmatrix}&=&\\begin{pmatrix}1&0&0&0\\\\0&1&0&0\\\\0&0&1&0\\\\0&0&-8&1\\end{pmatrix}\\end{eqnarray}$$"
      ],
      "text/plain": [
       "<IPython.core.display.HTML object>"
      ]
     },
     "metadata": {},
     "output_type": "display_data"
    },
    {
     "data": {
      "text/html": [
       "$$\\begin{eqnarray}\\begin{pmatrix}1&0&0&0\\\\0&1&0&0\\\\0&0&1&0\\\\0&0&-8&1\\end{pmatrix}^{-1}&=&\\begin{pmatrix}1&0&0&0\\\\0&1&0&0\\\\0&0&1&0\\\\0&0&8&1\\end{pmatrix}=\\begin{pmatrix}1&0&0&0\\\\0&1&0&0\\\\0&0&1&0\\\\0&0&8&1\\end{pmatrix}\\end{eqnarray}$$"
      ],
      "text/plain": [
       "<IPython.core.display.HTML object>"
      ]
     },
     "metadata": {},
     "output_type": "display_data"
    }
   ],
   "source": [
    "c = U2[2,2]\n",
    "PS2 = [Id]\n",
    "invPS2 = [Id]\n",
    "if nz(c): ## On évite le cas pathologique où toute la fin de colonne est à 0\n",
    "    PS2 = [ pivot(4, -U2[i,2]/c, 2, i) for i in range(3,4) if nz(U2[i,2]) ]\n",
    "    invPS2 = [ pivot(4, U2[i,2]/c, 2, i) for i in range(3,2,-1) if nz(U2[i,2]) ]\n",
    "P2 = prod(Id, *PS2)\n",
    "invP2 = prod(Id, *invPS2)\n",
    "show(P2, PS2)\n",
    "show((latex(P2) + \"^{-1}\"), invPS2, [invP2],online=True)"
   ]
  },
  {
   "cell_type": "markdown",
   "metadata": {},
   "source": [
    "Et on multiplie $L_2$ à droite par l'inverse de $P_2$ et $U_2$ à gauche par $P_2$ :"
   ]
  },
  {
   "cell_type": "code",
   "execution_count": 16,
   "metadata": {},
   "outputs": [
    {
     "data": {
      "text/html": [
       "$$\\begin{eqnarray}\\begin{pmatrix}6&5&6&9\\\\12&19&19&28\\\\48&112&111&157\\\\36&39&99&105\\end{pmatrix}&=&\\begin{pmatrix}1&0&0&0\\\\2&1&0&0\\\\8&8&1&0\\\\6&1&0&1\\end{pmatrix}\\times P_2^{-1}\\times P_2\\times \\begin{pmatrix}6&5&6&9\\\\0&9&7&10\\\\0&0&7&5\\\\0&0&56&41\\end{pmatrix}\\\\&=&\\underbrace{\\begin{pmatrix}1&0&0&0\\\\2&1&0&0\\\\8&8&1&0\\\\6&1&0&1\\end{pmatrix}\\times \\begin{pmatrix}1&0&0&0\\\\0&1&0&0\\\\0&0&1&0\\\\0&0&8&1\\end{pmatrix}}_{\\displaystyle\\begin{pmatrix}1&0&0&0\\\\2&1&0&0\\\\8&8&1&0\\\\6&1&8&1\\end{pmatrix}}\\times \\underbrace{\\begin{pmatrix}1&0&0&0\\\\0&1&0&0\\\\0&0&1&0\\\\0&0&-8&1\\end{pmatrix}\\times \\begin{pmatrix}6&5&6&9\\\\0&9&7&10\\\\0&0&7&5\\\\0&0&56&41\\end{pmatrix}}_{\\displaystyle\\begin{pmatrix}6&5&6&9\\\\0&9&7&10\\\\0&0&7&5\\\\0&0&0&1\\end{pmatrix}}\\end{eqnarray}$$"
      ],
      "text/plain": [
       "<IPython.core.display.HTML object>"
      ]
     },
     "metadata": {},
     "output_type": "display_data"
    }
   ],
   "source": [
    "show(A, [L2, \"P_2^{-1}\", \"P_2\", U2], [[L2, invP2], [P2, U2]])"
   ]
  },
  {
   "cell_type": "markdown",
   "metadata": {},
   "source": [
    "On obtient les matrices $L_3$ et $U_3$ c'est-à-dire $L$ et $U$ !"
   ]
  },
  {
   "cell_type": "code",
   "execution_count": 17,
   "metadata": {},
   "outputs": [
    {
     "data": {
      "text/html": [
       "$$\\begin{eqnarray}L = L_3&=&\\begin{pmatrix}1&0&0&0\\\\2&1&0&0\\\\8&8&1&0\\\\6&1&8&1\\end{pmatrix}\\end{eqnarray}$$"
      ],
      "text/plain": [
       "<IPython.core.display.HTML object>"
      ]
     },
     "metadata": {},
     "output_type": "display_data"
    },
    {
     "data": {
      "text/html": [
       "$$\\begin{eqnarray}U = U_3&=&\\begin{pmatrix}6&5&6&9\\\\0&9&7&10\\\\0&0&7&5\\\\0&0&0&1\\end{pmatrix}\\end{eqnarray}$$"
      ],
      "text/plain": [
       "<IPython.core.display.HTML object>"
      ]
     },
     "metadata": {},
     "output_type": "display_data"
    },
    {
     "data": {
      "text/html": [
       "$$\\begin{eqnarray}\\begin{pmatrix}6&5&6&9\\\\12&19&19&28\\\\48&112&111&157\\\\36&39&99&105\\end{pmatrix}&=&\\begin{pmatrix}1&0&0&0\\\\2&1&0&0\\\\8&8&1&0\\\\6&1&8&1\\end{pmatrix}\\times \\begin{pmatrix}6&5&6&9\\\\0&9&7&10\\\\0&0&7&5\\\\0&0&0&1\\end{pmatrix}=\\begin{pmatrix}6&5&6&9\\\\12&19&19&28\\\\48&112&111&157\\\\36&39&99&105\\end{pmatrix}\\end{eqnarray}$$"
      ],
      "text/plain": [
       "<IPython.core.display.HTML object>"
      ]
     },
     "metadata": {},
     "output_type": "display_data"
    }
   ],
   "source": [
    "L3=L2*invP2\n",
    "show(\"L = L_3\",[L3])\n",
    "U3=P2*U2\n",
    "show(\"U = U_3\",[U3])\n",
    "L=L3\n",
    "U=U3\n",
    "B=L*U\n",
    "show(A,[L,U],[B], online=True)\n",
    "assert(A==B).all()"
   ]
  },
  {
   "cell_type": "markdown",
   "metadata": {},
   "source": [
    "## Version algorithmique naïve\n",
    "\n",
    "En reprenant les idées ci-dessus on obtient le code suivant. Notez qu'il s'agit d'une version naïve puisqu'elle effectue de nombreuses mutiplications inutiles : on peut remplir la matrice $L$ directement en allant modifier ses coefficients et mettre à jour $U$ en effectuant explicitement les pivots sur les lignes concernées."
   ]
  },
  {
   "cell_type": "code",
   "execution_count": 18,
   "metadata": {},
   "outputs": [],
   "source": [
    "def naiveLU(A, trace=False):\n",
    "    \"décompose la matrice A en un produit LU par pivot de Gauss\"\n",
    "    n = A.shape[0]\n",
    "    I = identity(n)\n",
    "    L, U = I, A\n",
    "    for k in range(n-1):\n",
    "        c = U[k,k]\n",
    "        if z(c):\n",
    "            continue\n",
    "        PS = [ pivot(n, -U[i,k]/c, k, i) for i in range(k+1,n) if nz(U[i,k]) ]\n",
    "        invPS = [ pivot(n, U[i,k]/c, k, i) for i in range(n-1,k,-1) if nz(U[i,k]) ]\n",
    "        P = prod(I, *PS)\n",
    "        invP = prod(I, *invPS)\n",
    "        L, U = L*invP, P*U\n",
    "        if trace:\n",
    "            show(\"P_{}\".format(k+1), [P])\n",
    "            show(\"P^{}_{}\".format(\"{-1}\",k+1), [invP])\n",
    "            show(\"L_{}\".format(k+1), [L])\n",
    "            show(\"U_{}\".format(k+1), [U])\n",
    "    return L, U"
   ]
  },
  {
   "cell_type": "code",
   "execution_count": 19,
   "metadata": {
    "scrolled": true
   },
   "outputs": [
    {
     "data": {
      "text/html": [
       "$$\\begin{eqnarray}\\begin{pmatrix}10&1&2&9&1&2&2&10\\\\50&6&11&51&11&16&11&60\\\\40&13&25&92&67&65&19&139\\\\100&18&92&163&133&97&46&261\\\\100&15&97&228&159&134&67&325\\\\90&12&85&142&140&111&66&241\\\\10&4&21&94&122&125&64&163\\\\60&14&28&194&101&184&112&312\\end{pmatrix}&=&\\begin{pmatrix}1&0&0&0&0&0&0&0\\\\5&1&0&0&0&0&0&0\\\\4&9&1&0&0&0&0&0\\\\10&8&8&1&0&0&0&0\\\\10&5&9&10&1&0&0&0\\\\9&3&8&3&4&1&0&0\\\\1&3&2&7&8&1&1&0\\\\6&8&1&10&1&8&5&1\\end{pmatrix}\\times \\begin{pmatrix}10&1&2&9&1&2&2&10\\\\0&1&1&6&6&6&1&10\\\\0&0&8&2&9&3&2&9\\\\0&0&0&9&3&5&2&9\\\\0&0&0&0&8&7&4&4\\\\0&0&0&0&0&8&7&6\\\\0&0&0&0&0&0&2&4\\\\0&0&0&0&0&0&0&1\\end{pmatrix}\\end{eqnarray}$$"
      ],
      "text/plain": [
       "<IPython.core.display.HTML object>"
      ]
     },
     "metadata": {},
     "output_type": "display_data"
    },
    {
     "data": {
      "text/html": [
       "$$\\begin{eqnarray}\\begin{pmatrix}8&3&10&10&1&6&9&1\\\\80&36&107&108&19&68&92&18\\\\32&36&69&74&44&59&45&46\\\\8&57&80&103&112&107&40&153\\\\40&75&130&220&156&221&144&292\\\\48&78&133&209&127&200&141&215\\\\40&33&73&99&53&107&152&151\\\\16&30&51&72&56&85&86&135\\end{pmatrix}&=&\\begin{pmatrix}1&0&0&0&0&0&0&0\\\\10&1&0&0&0&0&0&0\\\\4&4&1&0&0&0&0&0\\\\1&9&7&1&0&0&0&0\\\\5&10&10&10&1&0&0&0\\\\6&10&3&9&1&1&0&0\\\\5&3&2&3&7&8&1&0\\\\2&4&3&2&2&7&2&1\\end{pmatrix}\\times \\begin{pmatrix}8&3&10&10&1&6&9&1\\\\0&6&7&8&9&8&2&8\\\\0&0&1&2&4&3&1&10\\\\0&0&0&7&2&8&6&10\\\\0&0&0&0&1&1&9&7\\\\0&0&0&0&0&2&1&2\\\\0&0&0&0&0&0&10&7\\\\0&0&0&0&0&0&0&9\\end{pmatrix}\\end{eqnarray}$$"
      ],
      "text/plain": [
       "<IPython.core.display.HTML object>"
      ]
     },
     "metadata": {},
     "output_type": "display_data"
    },
    {
     "data": {
      "text/html": [
       "$$\\begin{eqnarray}\\begin{pmatrix}6&5&7&8&10&3&4&6\\\\36&31&51&54&66&26&30&43\\\\6&9&46&34&35&43&31&38\\\\54&49&126&119&128&135&96&128\\\\6&11&85&100&102&149&144&164\\\\54&53&147&143&197&153&172&180\\\\36&38&126&134&214&196&265&232\\\\48&45&107&108&138&156&274&235\\end{pmatrix}&=&\\begin{pmatrix}1&0&0&0&0&0&0&0\\\\6&1&0&0&0&0&0&0\\\\1&4&1&0&0&0&0&0\\\\9&4&9&1&0&0&0&0\\\\1&6&8&8&1&0&0&0\\\\9&8&4&3&5&1&0&0\\\\6&8&4&6&9&5&1&0\\\\8&5&2&2&2&8&10&1\\end{pmatrix}\\times \\begin{pmatrix}6&5&7&8&10&3&4&6\\\\0&1&9&6&6&8&6&7\\\\0&0&3&2&1&8&3&4\\\\0&0&0&5&5&4&9&10\\\\0&0&0&0&8&2&8&4\\\\0&0&0&0&0&8&9&4\\\\0&0&0&0&0&0&10&8\\\\0&0&0&0&0&0&0&4\\end{pmatrix}\\end{eqnarray}$$"
      ],
      "text/plain": [
       "<IPython.core.display.HTML object>"
      ]
     },
     "metadata": {},
     "output_type": "display_data"
    },
    {
     "data": {
      "text/html": [
       "$$\\begin{eqnarray}\\begin{pmatrix}9&4&6&6&10&6&10&4\\\\9&13&9&14&19&12&11&10\\\\72&122&80&135&178&110&100&100\\\\45&101&63&128&165&92&95&99\\\\90&85&95&220&334&139&275&162\\\\45&56&60&175&294&130&247&137\\\\36&43&37&72&175&134&183&92\\\\63&64&68&168&279&133&270&159\\end{pmatrix}&=&\\begin{pmatrix}1&0&0&0&0&0&0&0\\\\1&1&0&0&0&0&0&0\\\\8&10&1&0&0&0&0&0\\\\5&9&3&1&0&0&0&0\\\\10&5&10&10&1&0&0&0\\\\5&4&9&10&4&1&0&0\\\\4&3&2&2&8&6&1&0\\\\7&4&7&9&3&4&3&1\\end{pmatrix}\\times \\begin{pmatrix}9&4&6&6&10&6&10&4\\\\0&9&3&8&9&6&1&6\\\\0&0&2&7&8&2&10&8\\\\0&0&0&5&10&2&6&1\\\\0&0&0&0&9&9&10&2\\\\0&0&0&0&0&2&3&3\\\\0&0&0&0&0&0&10&6\\\\0&0&0&0&0&0&0&6\\end{pmatrix}\\end{eqnarray}$$"
      ],
      "text/plain": [
       "<IPython.core.display.HTML object>"
      ]
     },
     "metadata": {},
     "output_type": "display_data"
    },
    {
     "data": {
      "text/html": [
       "$$\\begin{eqnarray}\\begin{pmatrix}8&9&10&3&5&8&7&6\\\\8&18&18&6&13&10&10&10\\\\56&135&138&52&106&78&74&83\\\\72&144&186&124&181&149&102&182\\\\24&99&130&114&174&105&80&169\\\\72&144&154&80&149&120&118&148\\\\64&90&124&97&139&177&122&182\\\\72&171&182&114&216&219&192&257\\end{pmatrix}&=&\\begin{pmatrix}1&0&0&0&0&0&0&0\\\\1&1&0&0&0&0&0&0\\\\7&8&1&0&0&0&0&0\\\\9&7&10&1&0&0&0&0\\\\3&8&9&3&1&0&0&0\\\\9&7&2&3&2&1&0&0\\\\8&2&7&3&2&6&1&0\\\\9&10&3&6&5&9&2&1\\end{pmatrix}\\times \\begin{pmatrix}8&9&10&3&5&8&7&6\\\\0&9&8&3&8&2&3&4\\\\0&0&4&7&7&6&1&9\\\\0&0&0&6&10&3&8&10\\\\0&0&0&0&2&2&2&8\\\\0&0&0&0&0&9&4&2\\\\0&0&0&0&0&0&1&5\\\\0&0&0&0&0&0&0&8\\end{pmatrix}\\end{eqnarray}$$"
      ],
      "text/plain": [
       "<IPython.core.display.HTML object>"
      ]
     },
     "metadata": {},
     "output_type": "display_data"
    },
    {
     "data": {
      "text/html": [
       "$$\\begin{eqnarray}\\begin{pmatrix}9&6&7&8&8&10&1&6\\\\18&17&19&24&26&25&3&18\\\\36&39&49&66&68&64&8&49\\\\72&78&92&128&134&129&19&94\\\\90&110&168&276&257&285&60&196\\\\36&49&59&136&149&187&91&105\\\\18&52&90&194&208&268&144&188\\\\63&62&81&156&160&216&114&204\\end{pmatrix}&=&\\begin{pmatrix}1&0&0&0&0&0&0&0\\\\2&1&0&0&0&0&0&0\\\\4&3&1&0&0&0&0&0\\\\8&6&1&1&0&0&0&0\\\\10&10&8&6&1&0&0&0\\\\4&5&1&9&5&1&0&0\\\\2&8&6&9&8&5&1&0\\\\7&4&2&8&4&2&9&1\\end{pmatrix}\\times \\begin{pmatrix}9&6&7&8&8&10&1&6\\\\0&5&5&8&10&5&1&6\\\\0&0&6&10&6&9&1&7\\\\0&0&0&6&4&10&4&3\\\\0&0&0&0&5&3&8&2\\\\0&0&0&0&0&8&5&7\\\\0&0&0&0&0&0&3&8\\\\0&0&0&0&0&0&0&6\\end{pmatrix}\\end{eqnarray}$$"
      ],
      "text/plain": [
       "<IPython.core.display.HTML object>"
      ]
     },
     "metadata": {},
     "output_type": "display_data"
    },
    {
     "data": {
      "text/html": [
       "$$\\begin{eqnarray}\\begin{pmatrix}8&2&10&7&8&9&1&1\\\\32&13&46&32&40&37&6&8\\\\80&30&117&86&100&102&18&19\\\\72&48&161&146&152&162&57&45\\\\40&50&123&128&154&146&103&80\\\\40&60&160&173&196&239&152&110\\\\24&36&81&96&124&148&132&119\\\\72&53&177&172&180&263&167&182\\end{pmatrix}&=&\\begin{pmatrix}1&0&0&0&0&0&0&0\\\\4&1&0&0&0&0&0&0\\\\10&2&1&0&0&0&0&0\\\\9&6&7&1&0&0&0&0\\\\5&8&5&7&1&0&0&0\\\\5&10&10&6&6&1&0&0\\\\3&6&3&9&2&4&1&0\\\\9&7&9&3&2&9&5&1\\end{pmatrix}\\times \\begin{pmatrix}8&2&10&7&8&9&1&1\\\\0&5&6&4&8&1&2&4\\\\0&0&5&8&4&10&4&1\\\\0&0&0&3&4&5&8&5\\\\0&0&0&0&2&8&6&3\\\\0&0&0&0&0&6&3&7\\\\0&0&0&0&0&0&9&10\\\\0&0&0&0&0&0&0&2\\end{pmatrix}\\end{eqnarray}$$"
      ],
      "text/plain": [
       "<IPython.core.display.HTML object>"
      ]
     },
     "metadata": {},
     "output_type": "display_data"
    },
    {
     "data": {
      "text/html": [
       "$$\\begin{eqnarray}\\begin{pmatrix}8&8&9&9&6&10&9&10\\\\80&82&92&100&68&105&98&109\\\\40&44&52&71&55&61&64&71\\\\48&66&102&205&200&121&163&178\\\\16&20&31&62&75&77&87&97\\\\48&50&80&121&214&214&170&239\\\\64&70&81&116&129&225&175&228\\\\32&34&59&89&113&95&109&157\\end{pmatrix}&=&\\begin{pmatrix}1&0&0&0&0&0&0&0\\\\10&1&0&0&0&0&0&0\\\\5&2&1&0&0&0&0&0\\\\6&9&10&1&0&0&0&0\\\\2&2&3&6&1&0&0&0\\\\6&1&8&9&10&1&0&0\\\\8&3&1&8&4&7&1&0\\\\4&1&7&1&2&3&6&1\\end{pmatrix}\\times \\begin{pmatrix}8&8&9&9&6&10&9&10\\\\0&2&2&10&8&5&8&9\\\\0&0&3&6&9&1&3&3\\\\0&0&0&1&2&6&7&7\\\\0&0&0&0&8&8&2&8\\\\0&0&0&0&0&7&1&3\\\\0&0&0&0&0&0&5&9\\\\0&0&0&0&0&0&0&1\\end{pmatrix}\\end{eqnarray}$$"
      ],
      "text/plain": [
       "<IPython.core.display.HTML object>"
      ]
     },
     "metadata": {},
     "output_type": "display_data"
    },
    {
     "data": {
      "text/html": [
       "$$\\begin{eqnarray}\\begin{pmatrix}8&4&6&4&3&9&3&3\\\\72&39&56&42&36&82&36&33\\\\32&37&40&67&76&44&76&57\\\\24&33&40&95&81&43&79&69\\\\64&62&70&136&159&127&142&136\\\\80&67&84&151&189&187&165&169\\\\24&24&42&128&136&152&121&151\\\\72&63&80&136&185&217&195&205\\end{pmatrix}&=&\\begin{pmatrix}1&0&0&0&0&0&0&0\\\\9&1&0&0&0&0&0&0\\\\4&7&1&0&0&0&0&0\\\\3&7&4&1&0&0&0&0\\\\8&10&1&7&1&0&0&0\\\\10&9&3&6&5&1&0&0\\\\3&4&8&4&7&3&1&0\\\\9&9&4&2&7&5&4&1\\end{pmatrix}\\times \\begin{pmatrix}8&4&6&4&3&9&3&3\\\\0&3&2&6&9&1&9&6\\\\0&0&2&9&1&1&1&3\\\\0&0&0&5&5&5&3&6\\\\0&0&0&0&9&9&6&7\\\\0&0&0&0&0&10&3&5\\\\0&0&0&0&0&0&5&6\\\\0&0&0&0&0&0&0&2\\end{pmatrix}\\end{eqnarray}$$"
      ],
      "text/plain": [
       "<IPython.core.display.HTML object>"
      ]
     },
     "metadata": {},
     "output_type": "display_data"
    },
    {
     "data": {
      "text/html": [
       "$$\\begin{eqnarray}\\begin{pmatrix}8&5&2&2&5&9&2&7\\\\32&22&9&13&26&45&11&37\\\\8&13&14&26&34&53&18&51\\\\80&52&37&39&75&122&32&97\\\\80&56&95&131&211&267&85&191\\\\48&38&96&132&274&330&183&206\\\\56&41&73&105&168&240&102&182\\\\72&55&79&101&163&265&148&262\\end{pmatrix}&=&\\begin{pmatrix}1&0&0&0&0&0&0&0\\\\4&1&0&0&0&0&0&0\\\\1&4&1&0&0&0&0&0\\\\10&1&2&1&0&0&0&0\\\\10&3&9&10&1&0&0&0\\\\6&4&10&10&10&1&0&0\\\\7&3&7&8&1&3&1&0\\\\9&5&7&5&1&4&6&1\\end{pmatrix}\\times \\begin{pmatrix}8&5&2&2&5&9&2&7\\\\0&2&1&5&6&9&3&9\\\\0&0&8&4&5&8&4&8\\\\0&0&0&6&9&7&1&2\\\\0&0&0&0&8&8&10&2\\\\0&0&0&0&0&10&9&8\\\\0&0&0&0&0&0&6&8\\\\0&0&0&0&0&0&0&6\\end{pmatrix}\\end{eqnarray}$$"
      ],
      "text/plain": [
       "<IPython.core.display.HTML object>"
      ]
     },
     "metadata": {},
     "output_type": "display_data"
    }
   ],
   "source": [
    "LA = [ rmat(8) for i in range(10) ]\n",
    "for A in LA:\n",
    "    show(A, list(naiveLU(A)))"
   ]
  },
  {
   "cell_type": "markdown",
   "metadata": {},
   "source": [
    "## 4. Éviter de faire trop de calculs\n",
    "\n",
    "Voici enfin le même code en effectuant les pivots directement en manipulant les matrices L et U."
   ]
  },
  {
   "cell_type": "code",
   "execution_count": 20,
   "metadata": {},
   "outputs": [],
   "source": [
    "def decompLU(A, trace=False):\n",
    "    \"décompose la matrice A en un produit LU par pivot de Gauss\"\n",
    "    n = A.shape[0]\n",
    "    I = identity(n)\n",
    "    L, U = I, A.copy()\n",
    "    for k in range(n-1):\n",
    "        c = U[k,k]\n",
    "        if z(c):\n",
    "            continue\n",
    "        for i in range(k+1,n):\n",
    "            a = U[i,k]/c\n",
    "            if nz(a):\n",
    "                L[i,k] = a\n",
    "                for j in range(k,n):\n",
    "                    U[i,j] -= a*U[k,j]\n",
    "        if trace:\n",
    "            show(\"L_{}\".format(k+1), [L])\n",
    "            show(\"U_{}\".format(k+1), [U])\n",
    "    return L, U"
   ]
  },
  {
   "cell_type": "code",
   "execution_count": 21,
   "metadata": {},
   "outputs": [
    {
     "data": {
      "text/html": [
       "$$\\begin{eqnarray}\\begin{pmatrix}10&1&2&9&1&2&2&10\\\\50&6&11&51&11&16&11&60\\\\40&13&25&92&67&65&19&139\\\\100&18&92&163&133&97&46&261\\\\100&15&97&228&159&134&67&325\\\\90&12&85&142&140&111&66&241\\\\10&4&21&94&122&125&64&163\\\\60&14&28&194&101&184&112&312\\end{pmatrix}&=&\\begin{pmatrix}1&0&0&0&0&0&0&0\\\\5&1&0&0&0&0&0&0\\\\4&9&1&0&0&0&0&0\\\\10&8&8&1&0&0&0&0\\\\10&5&9&10&1&0&0&0\\\\9&3&8&3&4&1&0&0\\\\1&3&2&7&8&1&1&0\\\\6&8&1&10&1&8&5&1\\end{pmatrix}\\times \\begin{pmatrix}10&1&2&9&1&2&2&10\\\\0&1&1&6&6&6&1&10\\\\0&0&8&2&9&3&2&9\\\\0&0&0&9&3&5&2&9\\\\0&0&0&0&8&7&4&4\\\\0&0&0&0&0&8&7&6\\\\0&0&0&0&0&0&2&4\\\\0&0&0&0&0&0&0&1\\end{pmatrix}\\end{eqnarray}$$"
      ],
      "text/plain": [
       "<IPython.core.display.HTML object>"
      ]
     },
     "metadata": {},
     "output_type": "display_data"
    },
    {
     "data": {
      "text/html": [
       "$$\\begin{eqnarray}\\begin{pmatrix}8&3&10&10&1&6&9&1\\\\80&36&107&108&19&68&92&18\\\\32&36&69&74&44&59&45&46\\\\8&57&80&103&112&107&40&153\\\\40&75&130&220&156&221&144&292\\\\48&78&133&209&127&200&141&215\\\\40&33&73&99&53&107&152&151\\\\16&30&51&72&56&85&86&135\\end{pmatrix}&=&\\begin{pmatrix}1&0&0&0&0&0&0&0\\\\10&1&0&0&0&0&0&0\\\\4&4&1&0&0&0&0&0\\\\1&9&7&1&0&0&0&0\\\\5&10&10&10&1&0&0&0\\\\6&10&3&9&1&1&0&0\\\\5&3&2&3&7&8&1&0\\\\2&4&3&2&2&7&2&1\\end{pmatrix}\\times \\begin{pmatrix}8&3&10&10&1&6&9&1\\\\0&6&7&8&9&8&2&8\\\\0&0&1&2&4&3&1&10\\\\0&0&0&7&2&8&6&10\\\\0&0&0&0&1&1&9&7\\\\0&0&0&0&0&2&1&2\\\\0&0&0&0&0&0&10&7\\\\0&0&0&0&0&0&0&9\\end{pmatrix}\\end{eqnarray}$$"
      ],
      "text/plain": [
       "<IPython.core.display.HTML object>"
      ]
     },
     "metadata": {},
     "output_type": "display_data"
    },
    {
     "data": {
      "text/html": [
       "$$\\begin{eqnarray}\\begin{pmatrix}6&5&7&8&10&3&4&6\\\\36&31&51&54&66&26&30&43\\\\6&9&46&34&35&43&31&38\\\\54&49&126&119&128&135&96&128\\\\6&11&85&100&102&149&144&164\\\\54&53&147&143&197&153&172&180\\\\36&38&126&134&214&196&265&232\\\\48&45&107&108&138&156&274&235\\end{pmatrix}&=&\\begin{pmatrix}1&0&0&0&0&0&0&0\\\\6&1&0&0&0&0&0&0\\\\1&4&1&0&0&0&0&0\\\\9&4&9&1&0&0&0&0\\\\1&6&8&8&1&0&0&0\\\\9&8&4&3&5&1&0&0\\\\6&8&4&6&9&5&1&0\\\\8&5&2&2&2&8&10&1\\end{pmatrix}\\times \\begin{pmatrix}6&5&7&8&10&3&4&6\\\\0&1&9&6&6&8&6&7\\\\0&0&3&2&1&8&3&4\\\\0&0&0&5&5&4&9&10\\\\0&0&0&0&8&2&8&4\\\\0&0&0&0&0&8&9&4\\\\0&0&0&0&0&0&10&8\\\\0&0&0&0&0&0&0&4\\end{pmatrix}\\end{eqnarray}$$"
      ],
      "text/plain": [
       "<IPython.core.display.HTML object>"
      ]
     },
     "metadata": {},
     "output_type": "display_data"
    },
    {
     "data": {
      "text/html": [
       "$$\\begin{eqnarray}\\begin{pmatrix}9&4&6&6&10&6&10&4\\\\9&13&9&14&19&12&11&10\\\\72&122&80&135&178&110&100&100\\\\45&101&63&128&165&92&95&99\\\\90&85&95&220&334&139&275&162\\\\45&56&60&175&294&130&247&137\\\\36&43&37&72&175&134&183&92\\\\63&64&68&168&279&133&270&159\\end{pmatrix}&=&\\begin{pmatrix}1&0&0&0&0&0&0&0\\\\1&1&0&0&0&0&0&0\\\\8&10&1&0&0&0&0&0\\\\5&9&3&1&0&0&0&0\\\\10&5&10&10&1&0&0&0\\\\5&4&9&10&4&1&0&0\\\\4&3&2&2&8&6&1&0\\\\7&4&7&9&3&4&3&1\\end{pmatrix}\\times \\begin{pmatrix}9&4&6&6&10&6&10&4\\\\0&9&3&8&9&6&1&6\\\\0&0&2&7&8&2&10&8\\\\0&0&0&5&10&2&6&1\\\\0&0&0&0&9&9&10&2\\\\0&0&0&0&0&2&3&3\\\\0&0&0&0&0&0&10&6\\\\0&0&0&0&0&0&0&6\\end{pmatrix}\\end{eqnarray}$$"
      ],
      "text/plain": [
       "<IPython.core.display.HTML object>"
      ]
     },
     "metadata": {},
     "output_type": "display_data"
    },
    {
     "data": {
      "text/html": [
       "$$\\begin{eqnarray}\\begin{pmatrix}8&9&10&3&5&8&7&6\\\\8&18&18&6&13&10&10&10\\\\56&135&138&52&106&78&74&83\\\\72&144&186&124&181&149&102&182\\\\24&99&130&114&174&105&80&169\\\\72&144&154&80&149&120&118&148\\\\64&90&124&97&139&177&122&182\\\\72&171&182&114&216&219&192&257\\end{pmatrix}&=&\\begin{pmatrix}1&0&0&0&0&0&0&0\\\\1&1&0&0&0&0&0&0\\\\7&8&1&0&0&0&0&0\\\\9&7&10&1&0&0&0&0\\\\3&8&9&3&1&0&0&0\\\\9&7&2&3&2&1&0&0\\\\8&2&7&3&2&6&1&0\\\\9&10&3&6&5&9&2&1\\end{pmatrix}\\times \\begin{pmatrix}8&9&10&3&5&8&7&6\\\\0&9&8&3&8&2&3&4\\\\0&0&4&7&7&6&1&9\\\\0&0&0&6&10&3&8&10\\\\0&0&0&0&2&2&2&8\\\\0&0&0&0&0&9&4&2\\\\0&0&0&0&0&0&1&5\\\\0&0&0&0&0&0&0&8\\end{pmatrix}\\end{eqnarray}$$"
      ],
      "text/plain": [
       "<IPython.core.display.HTML object>"
      ]
     },
     "metadata": {},
     "output_type": "display_data"
    },
    {
     "data": {
      "text/html": [
       "$$\\begin{eqnarray}\\begin{pmatrix}9&6&7&8&8&10&1&6\\\\18&17&19&24&26&25&3&18\\\\36&39&49&66&68&64&8&49\\\\72&78&92&128&134&129&19&94\\\\90&110&168&276&257&285&60&196\\\\36&49&59&136&149&187&91&105\\\\18&52&90&194&208&268&144&188\\\\63&62&81&156&160&216&114&204\\end{pmatrix}&=&\\begin{pmatrix}1&0&0&0&0&0&0&0\\\\2&1&0&0&0&0&0&0\\\\4&3&1&0&0&0&0&0\\\\8&6&1&1&0&0&0&0\\\\10&10&8&6&1&0&0&0\\\\4&5&1&9&5&1&0&0\\\\2&8&6&9&8&5&1&0\\\\7&4&2&8&4&2&9&1\\end{pmatrix}\\times \\begin{pmatrix}9&6&7&8&8&10&1&6\\\\0&5&5&8&10&5&1&6\\\\0&0&6&10&6&9&1&7\\\\0&0&0&6&4&10&4&3\\\\0&0&0&0&5&3&8&2\\\\0&0&0&0&0&8&5&7\\\\0&0&0&0&0&0&3&8\\\\0&0&0&0&0&0&0&6\\end{pmatrix}\\end{eqnarray}$$"
      ],
      "text/plain": [
       "<IPython.core.display.HTML object>"
      ]
     },
     "metadata": {},
     "output_type": "display_data"
    },
    {
     "data": {
      "text/html": [
       "$$\\begin{eqnarray}\\begin{pmatrix}8&2&10&7&8&9&1&1\\\\32&13&46&32&40&37&6&8\\\\80&30&117&86&100&102&18&19\\\\72&48&161&146&152&162&57&45\\\\40&50&123&128&154&146&103&80\\\\40&60&160&173&196&239&152&110\\\\24&36&81&96&124&148&132&119\\\\72&53&177&172&180&263&167&182\\end{pmatrix}&=&\\begin{pmatrix}1&0&0&0&0&0&0&0\\\\4&1&0&0&0&0&0&0\\\\10&2&1&0&0&0&0&0\\\\9&6&7&1&0&0&0&0\\\\5&8&5&7&1&0&0&0\\\\5&10&10&6&6&1&0&0\\\\3&6&3&9&2&4&1&0\\\\9&7&9&3&2&9&5&1\\end{pmatrix}\\times \\begin{pmatrix}8&2&10&7&8&9&1&1\\\\0&5&6&4&8&1&2&4\\\\0&0&5&8&4&10&4&1\\\\0&0&0&3&4&5&8&5\\\\0&0&0&0&2&8&6&3\\\\0&0&0&0&0&6&3&7\\\\0&0&0&0&0&0&9&10\\\\0&0&0&0&0&0&0&2\\end{pmatrix}\\end{eqnarray}$$"
      ],
      "text/plain": [
       "<IPython.core.display.HTML object>"
      ]
     },
     "metadata": {},
     "output_type": "display_data"
    },
    {
     "data": {
      "text/html": [
       "$$\\begin{eqnarray}\\begin{pmatrix}8&8&9&9&6&10&9&10\\\\80&82&92&100&68&105&98&109\\\\40&44&52&71&55&61&64&71\\\\48&66&102&205&200&121&163&178\\\\16&20&31&62&75&77&87&97\\\\48&50&80&121&214&214&170&239\\\\64&70&81&116&129&225&175&228\\\\32&34&59&89&113&95&109&157\\end{pmatrix}&=&\\begin{pmatrix}1&0&0&0&0&0&0&0\\\\10&1&0&0&0&0&0&0\\\\5&2&1&0&0&0&0&0\\\\6&9&10&1&0&0&0&0\\\\2&2&3&6&1&0&0&0\\\\6&1&8&9&10&1&0&0\\\\8&3&1&8&4&7&1&0\\\\4&1&7&1&2&3&6&1\\end{pmatrix}\\times \\begin{pmatrix}8&8&9&9&6&10&9&10\\\\0&2&2&10&8&5&8&9\\\\0&0&3&6&9&1&3&3\\\\0&0&0&1&2&6&7&7\\\\0&0&0&0&8&8&2&8\\\\0&0&0&0&0&7&1&3\\\\0&0&0&0&0&0&5&9\\\\0&0&0&0&0&0&0&1\\end{pmatrix}\\end{eqnarray}$$"
      ],
      "text/plain": [
       "<IPython.core.display.HTML object>"
      ]
     },
     "metadata": {},
     "output_type": "display_data"
    },
    {
     "data": {
      "text/html": [
       "$$\\begin{eqnarray}\\begin{pmatrix}8&4&6&4&3&9&3&3\\\\72&39&56&42&36&82&36&33\\\\32&37&40&67&76&44&76&57\\\\24&33&40&95&81&43&79&69\\\\64&62&70&136&159&127&142&136\\\\80&67&84&151&189&187&165&169\\\\24&24&42&128&136&152&121&151\\\\72&63&80&136&185&217&195&205\\end{pmatrix}&=&\\begin{pmatrix}1&0&0&0&0&0&0&0\\\\9&1&0&0&0&0&0&0\\\\4&7&1&0&0&0&0&0\\\\3&7&4&1&0&0&0&0\\\\8&10&1&7&1&0&0&0\\\\10&9&3&6&5&1&0&0\\\\3&4&8&4&7&3&1&0\\\\9&9&4&2&7&5&4&1\\end{pmatrix}\\times \\begin{pmatrix}8&4&6&4&3&9&3&3\\\\0&3&2&6&9&1&9&6\\\\0&0&2&9&1&1&1&3\\\\0&0&0&5&5&5&3&6\\\\0&0&0&0&9&9&6&7\\\\0&0&0&0&0&10&3&5\\\\0&0&0&0&0&0&5&6\\\\0&0&0&0&0&0&0&2\\end{pmatrix}\\end{eqnarray}$$"
      ],
      "text/plain": [
       "<IPython.core.display.HTML object>"
      ]
     },
     "metadata": {},
     "output_type": "display_data"
    },
    {
     "data": {
      "text/html": [
       "$$\\begin{eqnarray}\\begin{pmatrix}8&5&2&2&5&9&2&7\\\\32&22&9&13&26&45&11&37\\\\8&13&14&26&34&53&18&51\\\\80&52&37&39&75&122&32&97\\\\80&56&95&131&211&267&85&191\\\\48&38&96&132&274&330&183&206\\\\56&41&73&105&168&240&102&182\\\\72&55&79&101&163&265&148&262\\end{pmatrix}&=&\\begin{pmatrix}1&0&0&0&0&0&0&0\\\\4&1&0&0&0&0&0&0\\\\1&4&1&0&0&0&0&0\\\\10&1&2&1&0&0&0&0\\\\10&3&9&10&1&0&0&0\\\\6&4&10&10&10&1&0&0\\\\7&3&7&8&1&3&1&0\\\\9&5&7&5&1&4&6&1\\end{pmatrix}\\times \\begin{pmatrix}8&5&2&2&5&9&2&7\\\\0&2&1&5&6&9&3&9\\\\0&0&8&4&5&8&4&8\\\\0&0&0&6&9&7&1&2\\\\0&0&0&0&8&8&10&2\\\\0&0&0&0&0&10&9&8\\\\0&0&0&0&0&0&6&8\\\\0&0&0&0&0&0&0&6\\end{pmatrix}\\end{eqnarray}$$"
      ],
      "text/plain": [
       "<IPython.core.display.HTML object>"
      ]
     },
     "metadata": {},
     "output_type": "display_data"
    }
   ],
   "source": [
    "for A in LA:\n",
    "    show(A,list(decompLU(A)))"
   ]
  },
  {
   "cell_type": "markdown",
   "metadata": {},
   "source": [
    "## 5. La factorisation LU par blocs\n",
    "\n",
    "\n",
    "Dans cette version la factorisation LU précédente va être utilisée pour calculer la factorisation LU des blocs diagonaux.\n",
    "\n",
    "A partir de l'exemple suivant où la matrice $A$ est de taille $12 \\times 12$ et en considérant $l=4$ pour la taille des blocs on peut exprimer la factorisation LU de la manière suivante\n",
    "$$\\begin{pmatrix}\n",
    "  A_{00}   &A_{01} &A_{02}\\\\\n",
    "  A_{10}   &A_{11} &A_{12}\\\\\n",
    "  A_{20}   &A_{21} &A_{22}\\\\\n",
    "\\end{pmatrix} = \\begin{pmatrix}\n",
    "  L_{00}   &0 &0 \\\\\n",
    "  L_{10}   &L_{11} &0\\\\\n",
    "  L_{20}   &L_{21} &L_{22}\\\\\n",
    "\\end{pmatrix} \n",
    "\\times  \\begin{pmatrix}\n",
    "  U_{00}   &U_{01} &U_{02}\\\\\n",
    "  0  &U_{11} &U_{12}\\\\\n",
    "  0 &0 &U_{22}\\\\\n",
    "\\end{pmatrix}$$\n",
    " \n",
    "1. $L_{00}$ et $U_{00}$ sont le résultat de la factorisation LU de $A_{00}$ "
   ]
  },
  {
   "cell_type": "code",
   "execution_count": 22,
   "metadata": {},
   "outputs": [
    {
     "data": {
      "text/html": [
       "$$\\begin{pmatrix}1&6&4&7&5&7&6&1&2&2&8&2\\\\8&50&39&61&50&64&51&13&19&21&68&19\\\\2&30&77&69&109&90&40&54&35&57&62&34\\\\3&20&55&91&82&57&28&52&37&62&94&33\\\\3&24&87&141&143&97&49&93&73&112&152&70\\\\9&58&104&173&232&166&175&147&177&215&263&166\\\\5&34&58&120&150&149&152&104&219&230&191&169\\\\10&70&81&120&198&190&221&123&247&254&225&199\\\\3&36&87&111&202&183&197&140&288&301&203&232\\\\4&30&67&108&160&133&189&144&332&351&232&279\\\\6&44&88&137&157&152&147&141&312&405&287&300\\\\7&44&83&184&203&175&167&188&333&397&376&328\\end{pmatrix}$$"
      ],
      "text/plain": [
       "<IPython.core.display.HTML object>"
      ]
     },
     "metadata": {},
     "output_type": "display_data"
    }
   ],
   "source": [
    "n=12\n",
    "l=4\n",
    "b=3\n",
    "A=rmat(n)\n",
    "show(A)"
   ]
  },
  {
   "cell_type": "code",
   "execution_count": 23,
   "metadata": {},
   "outputs": [
    {
     "data": {
      "text/html": [
       "$$\\begin{eqnarray}A_{00}&=&\\begin{pmatrix}1&6&4&7\\\\8&50&39&61\\\\2&30&77&69\\\\3&20&55&91\\end{pmatrix}\\end{eqnarray}$$"
      ],
      "text/plain": [
       "<IPython.core.display.HTML object>"
      ]
     },
     "metadata": {},
     "output_type": "display_data"
    },
    {
     "data": {
      "text/html": [
       "$$\\begin{eqnarray}L_{00}U_{00}&=&\\begin{pmatrix}1&0&0&0\\\\8&1&0&0\\\\2&9&1&0\\\\3&1&6&1\\end{pmatrix}\\times \\begin{pmatrix}1&6&4&7\\\\0&2&7&5\\\\0&0&6&10\\\\0&0&0&5\\end{pmatrix}\\\\&=&\\begin{pmatrix}1&6&4&7\\\\8&50&39&61\\\\2&30&77&69\\\\3&20&55&91\\end{pmatrix}\\end{eqnarray}$$"
      ],
      "text/plain": [
       "<IPython.core.display.HTML object>"
      ]
     },
     "metadata": {},
     "output_type": "display_data"
    }
   ],
   "source": [
    "A00=A[0:l,0:l]\n",
    "[L00,U00]=decompLU(A00,0)\n",
    "show(\"A_{00}\",[A00])\n",
    "show(\"L_{00}U_{00}\",[L00,U00],[L00*U00])"
   ]
  },
  {
   "cell_type": "markdown",
   "metadata": {},
   "source": [
    "2. Mais en regardant le résultat qu'on veut obtenir avec la première colonne de $L$ et la première ligne de $U$\n",
    "\n",
    "$\\begin{pmatrix}\n",
    "  L_{00}   &0 &0\\\\\n",
    "  L_{10}   &. &.\\\\\n",
    "  L_{20}   &. &.\\\\\n",
    "\\end{pmatrix} \n",
    "\\times  \\begin{pmatrix}\n",
    "  U_{00}   &U_{01} &U_{02}\\\\\n",
    "  0  &. &.\\\\\n",
    "  0 &. &.\\\\\n",
    "\\end{pmatrix}= \\begin{pmatrix}\n",
    "L_{00}U_{00} &L_{00}U_{01} &L_{00}U_{02}\\\\\n",
    "L_{10}U_{00} &. &.\\\\\n",
    "L_{20}U_{00} &. &.\\\\\n",
    "\\end{pmatrix}=\\begin{pmatrix}\n",
    "  A_{00}   &A_{01} &A_{02}\\\\\n",
    "  A_{10}   &A_{11} &A_{12}\\\\\n",
    "  A_{20}   &A_{21} &A_{22}\\\\\n",
    "\\end{pmatrix}$\n",
    "\n",
    "On voit qu'on peut calculer $L_{i0}$ et $U_{0j}$ grâce aux relations \n",
    "\n",
    "$L_{i0}U_{00}= A_{i0}$ et $L_{00}U_{0j}=A_{0j}$\n",
    "\n",
    "En effet les matrices $L_{00}$ et $U_{00}$ sont respectivement triangulaire inférieure et triangulaire supérieure et une résolution de système permet de résoudre les 2 équations."
   ]
  },
  {
   "cell_type": "code",
   "execution_count": 24,
   "metadata": {},
   "outputs": [
    {
     "data": {
      "text/html": [
       "$$\\begin{eqnarray}A_{10}&=&\\begin{pmatrix}3&24&87&141\\\\9&58&104&173\\\\5&34&58&120\\\\10&70&81&120\\end{pmatrix}\\end{eqnarray}$$"
      ],
      "text/plain": [
       "<IPython.core.display.HTML object>"
      ]
     },
     "metadata": {},
     "output_type": "display_data"
    },
    {
     "data": {
      "text/html": [
       "$$\\begin{eqnarray}U_{00}&=&\\begin{pmatrix}1&6&4&7\\\\0&2&7&5\\\\0&0&6&10\\\\0&0&0&5\\end{pmatrix}\\end{eqnarray}$$"
      ],
      "text/plain": [
       "<IPython.core.display.HTML object>"
      ]
     },
     "metadata": {},
     "output_type": "display_data"
    },
    {
     "data": {
      "text/html": [
       "$$\\begin{eqnarray}L_{10}&=&\\begin{pmatrix}3&3&9&3\\\\9&2&9&2\\\\5&2&4&7\\\\10&5&1&3\\end{pmatrix}\\end{eqnarray}$$"
      ],
      "text/plain": [
       "<IPython.core.display.HTML object>"
      ]
     },
     "metadata": {},
     "output_type": "display_data"
    },
    {
     "data": {
      "text/html": [
       "$$\\begin{eqnarray}L_{10}U_{00}&=&\\begin{pmatrix}3&24&87&141\\\\9&58&104&173\\\\5&34&58&120\\\\10&70&81&120\\end{pmatrix}\\end{eqnarray}$$"
      ],
      "text/plain": [
       "<IPython.core.display.HTML object>"
      ]
     },
     "metadata": {},
     "output_type": "display_data"
    },
    {
     "data": {
      "text/html": [
       "$$\\begin{eqnarray}A_{01}&=&\\begin{pmatrix}5&7&6&1\\\\50&64&51&13\\\\109&90&40&54\\\\82&57&28&52\\end{pmatrix}\\end{eqnarray}$$"
      ],
      "text/plain": [
       "<IPython.core.display.HTML object>"
      ]
     },
     "metadata": {},
     "output_type": "display_data"
    },
    {
     "data": {
      "text/html": [
       "$$\\begin{eqnarray}U_{01}&=&\\begin{pmatrix}5&7&6&1\\\\10&8&3&5\\\\9&4&1&7\\\\3&4&1&2\\end{pmatrix}\\end{eqnarray}$$"
      ],
      "text/plain": [
       "<IPython.core.display.HTML object>"
      ]
     },
     "metadata": {},
     "output_type": "display_data"
    },
    {
     "data": {
      "text/html": [
       "$$\\begin{eqnarray}L_{00}U_{01}&=&\\begin{pmatrix}5&7&6&1\\\\50&64&51&13\\\\109&90&40&54\\\\82&57&28&52\\end{pmatrix}\\end{eqnarray}$$"
      ],
      "text/plain": [
       "<IPython.core.display.HTML object>"
      ]
     },
     "metadata": {},
     "output_type": "display_data"
    }
   ],
   "source": [
    "def resolutionSup(U,A):\n",
    "    n = A.shape[0]\n",
    "    L=zeros((n,n))\n",
    "    for i in range(n):\n",
    "        for j in range(n):\n",
    "            tmp = 0\n",
    "            for k in range(j):\n",
    "                tmp += L[i,k]*U[k,j] \n",
    "            L[i,j] = (A[i,j]-tmp)/U[j,j]\n",
    "    return L\n",
    "\n",
    "def resolutionInf(L,A):\n",
    "    n = A.shape[0]\n",
    "    U=zeros((n,n))\n",
    "    for j in range(n):\n",
    "        for i in range(n):\n",
    "            tmp = 0\n",
    "            for k in range(i):\n",
    "                tmp += U[k,j]*L[i,k] \n",
    "            U[i,j] = (A[i,j]-tmp)/L[j,j]\n",
    "    return U\n",
    "\n",
    "def subm(M,k,i,j): \n",
    "    return M[k*i:k*(i+1),k*j:k*(j+1)]\n",
    "\n",
    "\n",
    "A10=subm(A,l,1,0)\n",
    "show(\"A_{10}\",[A10])\n",
    "L10=resolutionSup(U00,A10)\n",
    "show(\"U_{00}\",[U00])\n",
    "show(\"L_{10}\",[L10])\n",
    "show(\"L_{10}U_{00}\",[L10*U00])\n",
    "\n",
    "A01=subm(A,l,0,1)\n",
    "show(\"A_{01}\",[A01])\n",
    "U01=resolutionInf(L00,A01)\n",
    "show(\"U_{01}\",[U01])\n",
    "show(\"L_{00}U_{01}\",[L00*U01])"
   ]
  },
  {
   "cell_type": "code",
   "execution_count": 25,
   "metadata": {},
   "outputs": [
    {
     "data": {
      "text/html": [
       "$$\\begin{eqnarray}A_{20}&=&\\begin{pmatrix}3&36&87&111\\\\4&30&67&108\\\\6&44&88&137\\\\7&44&83&184\\end{pmatrix}\\end{eqnarray}$$"
      ],
      "text/plain": [
       "<IPython.core.display.HTML object>"
      ]
     },
     "metadata": {},
     "output_type": "display_data"
    },
    {
     "data": {
      "text/html": [
       "$$\\begin{eqnarray}L_{20}&=&\\begin{pmatrix}3&9&2&5\\\\4&3&5&3\\\\6&4&6&3\\\\7&1&8&10\\end{pmatrix}\\end{eqnarray}$$"
      ],
      "text/plain": [
       "<IPython.core.display.HTML object>"
      ]
     },
     "metadata": {},
     "output_type": "display_data"
    },
    {
     "data": {
      "text/html": [
       "$$\\begin{eqnarray}L_{20}U_{00}&=&\\begin{pmatrix}3&36&87&111\\\\4&30&67&108\\\\6&44&88&137\\\\7&44&83&184\\end{pmatrix}\\end{eqnarray}$$"
      ],
      "text/plain": [
       "<IPython.core.display.HTML object>"
      ]
     },
     "metadata": {},
     "output_type": "display_data"
    },
    {
     "data": {
      "text/html": [
       "$$\\begin{eqnarray}A_{02}&=&\\begin{pmatrix}2&2&8&2\\\\19&21&68&19\\\\35&57&62&34\\\\37&62&94&33\\end{pmatrix}\\end{eqnarray}$$"
      ],
      "text/plain": [
       "<IPython.core.display.HTML object>"
      ]
     },
     "metadata": {},
     "output_type": "display_data"
    },
    {
     "data": {
      "text/html": [
       "$$\\begin{eqnarray}U_{02}&=&\\begin{pmatrix}2&2&8&2\\\\3&5&4&3\\\\4&8&10&3\\\\4&3&6&6\\end{pmatrix}\\end{eqnarray}$$"
      ],
      "text/plain": [
       "<IPython.core.display.HTML object>"
      ]
     },
     "metadata": {},
     "output_type": "display_data"
    },
    {
     "data": {
      "text/html": [
       "$$\\begin{eqnarray}L_{00}U_{02}&=&\\begin{pmatrix}2&2&8&2\\\\19&21&68&19\\\\35&57&62&34\\\\37&62&94&33\\end{pmatrix}\\end{eqnarray}$$"
      ],
      "text/plain": [
       "<IPython.core.display.HTML object>"
      ]
     },
     "metadata": {},
     "output_type": "display_data"
    }
   ],
   "source": [
    "A20=subm(A,l,2,0)\n",
    "show(\"A_{20}\",[A20])\n",
    "L20=resolutionSup(U00,A20)\n",
    "show(\"L_{20}\",[L20])\n",
    "show(\"L_{20}U_{00}\",[L20*U00])\n",
    "A02=subm(A,l,0,2)\n",
    "show(\"A_{02}\",[A02])\n",
    "U02=resolutionInf(L00,A02)\n",
    "show(\"U_{02}\",[U02])\n",
    "show(\"L_{00}U_{02}\",[L00*U02])"
   ]
  },
  {
   "cell_type": "markdown",
   "metadata": {},
   "source": [
    "3. Enfin si on écrit \n",
    "$\\begin{pmatrix}\n",
    "  L_{00}   &0 &0\\\\\n",
    "  L_{10}   &I &0\\\\\n",
    "  L_{20}   &0 &I\\\\\n",
    "\\end{pmatrix} \n",
    "\\times  \\begin{pmatrix}\n",
    "  U_{00}   &U_{01} &U_{02}\\\\\n",
    "  0  &\\tilde A_{11} &\\tilde A_{12}\\\\\n",
    "  0  &\\tilde A_{21} &\\tilde A_{22}\\\\\n",
    "\\end{pmatrix}$\n",
    "\n",
    "on a alors la dernière équation $A_{ij}=L_{i0}U_{0j}+\\tilde A_{ij}$ qui permet de calculer $\\tilde A_{ij}$ pour $i,j>0$\n",
    "\n",
    "4. Il reste à poursuivre en calculant la factorisation LU de la matrice $\\tilde A$. En effet, si on écrit\n",
    "\n",
    "$\\begin{pmatrix}\n",
    "  \\tilde A_{11} &\\tilde A_{12}\\\\\n",
    "  \\tilde A_{21} &\\tilde A_{22}\\\\\n",
    "\\end{pmatrix}=\\begin{pmatrix}\n",
    "  L_{11} &0\\\\\n",
    "  L_{21} &L_{22}\\\\\n",
    "\\end{pmatrix}\\times \\begin{pmatrix}\n",
    "  U_{11} &U_{12}\\\\\n",
    "   0 &U_{22}\\\\\n",
    "\\end{pmatrix}=\\begin{pmatrix}\n",
    "  L_{11}U_{11} &L_{11}U_{12}\\\\\n",
    "  L_{21}U_{11} &L_{21}U_{12}+L_{22}U_{22}\\\\\n",
    "\\end{pmatrix}$\n",
    "\n",
    "On a \n",
    "\n",
    "$\\begin{pmatrix}\n",
    "  L_{00}   &0 &0 \\\\\n",
    "  L_{10}   &L_{11} &0\\\\\n",
    "  L_{20}   &L_{21} &L_{22}\\\\\n",
    "\\end{pmatrix} \n",
    "\\times  \\begin{pmatrix}\n",
    "  U_{00}   &U_{01} &U_{02}\\\\\n",
    "  0  &U_{11} &U_{12}\\\\\n",
    "  0 &0 &U_{22}\\\\\n",
    "\\end{pmatrix}=\\begin{pmatrix}\n",
    "L_{00}U_{00}   &L_{00}U_{01} &L_{00}U_{02} \\\\\n",
    "  L_{10}U_{00}   &L_{10}U_{01}+L_{11}U_{11} &L_{10}U_{02}+L_{11}U_{12}\\\\\n",
    "  L_{20}U_{00}   &L_{20}U_{01}+L_{21}U_{11} &L_{20}U_{02}+L_{21}U_{12}+L_{22}U_{22}\\\\\n",
    "  \\end{pmatrix}=\\begin{pmatrix}\n",
    "  A_{00}   &A_{01} &A_{02}\\\\\n",
    "  A_{10}   &L_{10}U_{01}+\\tilde A_{11} &L_{10}U_{02}+\\tilde A_{12}\\\\\n",
    "  A_{20}   &L_{20}U_{01}+\\tilde A_{21} &L_{20}U_{02}+\\tilde A_{22}\\\\\n",
    "\\end{pmatrix}=\\begin{pmatrix}\n",
    "  A_{00}   &A_{01} &A_{02}\\\\\n",
    "  A_{10}   &A_{11} &A_{12}\\\\\n",
    "  A_{20}   &A_{21} &A_{22}\\\\\n",
    "\\end{pmatrix}$\n"
   ]
  },
  {
   "cell_type": "code",
   "execution_count": 26,
   "metadata": {},
   "outputs": [
    {
     "data": {
      "text/html": [
       "$$\\begin{eqnarray}A&=&\\begin{pmatrix}1&6&4&7&5&7&6&1&2&2&8&2\\\\8&50&39&61&50&64&51&13&19&21&68&19\\\\2&30&77&69&109&90&40&54&35&57&62&34\\\\3&20&55&91&82&57&28&52&37&62&94&33\\\\3&24&87&141&143&97&49&93&73&112&152&70\\\\9&58&104&173&232&166&175&147&177&215&263&166\\\\5&34&58&120&150&149&152&104&219&230&191&169\\\\10&70&81&120&198&190&221&123&247&254&225&199\\\\3&36&87&111&202&183&197&140&288&301&203&232\\\\4&30&67&108&160&133&189&144&332&351&232&279\\\\6&44&88&137&157&152&147&141&312&405&287&300\\\\7&44&83&184&203&175&167&188&333&397&376&328\\end{pmatrix}\\end{eqnarray}$$"
      ],
      "text/plain": [
       "<IPython.core.display.HTML object>"
      ]
     },
     "metadata": {},
     "output_type": "display_data"
    },
    {
     "name": "stdout",
     "output_type": "stream",
     "text": [
      "e= 0\n"
     ]
    },
    {
     "data": {
      "text/html": [
       "$$\\begin{eqnarray}L&=&\\begin{pmatrix}1&0&0&0&0&0&0&0&0&0&0&0\\\\8&1&0&0&0&0&0&0&0&0&0&0\\\\2&9&1&0&0&0&0&0&0&0&0&0\\\\3&1&6&1&0&0&0&0&0&0&0&0\\\\3&3&9&3&0&0&0&0&0&0&0&0\\\\9&2&9&2&0&0&0&0&0&0&0&0\\\\5&2&4&7&0&0&0&0&0&0&0&0\\\\10&5&1&3&0&0&0&0&0&0&0&0\\\\3&9&2&5&0&0&0&0&0&0&0&0\\\\4&3&5&3&0&0&0&0&0&0&0&0\\\\6&4&6&3&0&0&0&0&0&0&0&0\\\\7&1&8&10&0&0&0&0&0&0&0&0\\end{pmatrix}\\end{eqnarray}$$"
      ],
      "text/plain": [
       "<IPython.core.display.HTML object>"
      ]
     },
     "metadata": {},
     "output_type": "display_data"
    },
    {
     "data": {
      "text/html": [
       "$$\\begin{eqnarray}U&=&\\begin{pmatrix}1&6&4&7&5&7&6&1&2&2&8&2\\\\0&2&7&5&10&8&3&5&3&5&4&3\\\\0&0&6&10&9&4&1&7&4&8&10&3\\\\0&0&0&5&3&4&1&2&4&3&6&6\\\\0&0&0&0&0&0&0&0&0&0&0&0\\\\0&0&0&0&0&0&0&0&0&0&0&0\\\\0&0&0&0&0&0&0&0&0&0&0&0\\\\0&0&0&0&0&0&0&0&0&0&0&0\\\\0&0&0&0&0&0&0&0&0&0&0&0\\\\0&0&0&0&0&0&0&0&0&0&0&0\\\\0&0&0&0&0&0&0&0&0&0&0&0\\\\0&0&0&0&0&0&0&0&0&0&0&0\\end{pmatrix}\\end{eqnarray}$$"
      ],
      "text/plain": [
       "<IPython.core.display.HTML object>"
      ]
     },
     "metadata": {},
     "output_type": "display_data"
    },
    {
     "name": "stdout",
     "output_type": "stream",
     "text": [
      "e= 1\n"
     ]
    },
    {
     "data": {
      "text/html": [
       "$$\\begin{eqnarray}L&=&\\begin{pmatrix}1&0&0&0&0&0&0&0&0&0&0&0\\\\8&1&0&0&0&0&0&0&0&0&0&0\\\\2&9&1&0&0&0&0&0&0&0&0&0\\\\3&1&6&1&0&0&0&0&0&0&0&0\\\\3&3&9&3&1&0&0&0&0&0&0&0\\\\9&2&9&2&10&1&0&0&0&0&0&0\\\\5&2&4&7&6&10&1&0&0&0&0&0\\\\10&5&1&3&10&8&2&1&0&0&0&0\\\\3&9&2&5&8&10&5&1&0&0&0&0\\\\4&3&5&3&7&7&10&5&0&0&0&0\\\\6&4&6&3&3&10&4&7&0&0&0&0\\\\7&1&8&10&7&6&2&10&0&0&0&0\\end{pmatrix}\\end{eqnarray}$$"
      ],
      "text/plain": [
       "<IPython.core.display.HTML object>"
      ]
     },
     "metadata": {},
     "output_type": "display_data"
    },
    {
     "data": {
      "text/html": [
       "$$\\begin{eqnarray}U&=&\\begin{pmatrix}1&6&4&7&5&7&6&1&2&2&8&2\\\\0&2&7&5&10&8&3&5&3&5&4&3\\\\0&0&6&10&9&4&1&7&4&8&10&3\\\\0&0&0&5&3&4&1&2&4&3&6&6\\\\0&0&0&0&8&4&10&6&10&10&8&10\\\\0&0&0&0&0&3&4&1&9&9&1&3\\\\0&0&0&0&0&0&5&1&9&7&3&9\\\\0&0&0&0&0&0&0&5&6&6&3&1\\\\0&0&0&0&0&0&0&0&0&0&0&0\\\\0&0&0&0&0&0&0&0&0&0&0&0\\\\0&0&0&0&0&0&0&0&0&0&0&0\\\\0&0&0&0&0&0&0&0&0&0&0&0\\end{pmatrix}\\end{eqnarray}$$"
      ],
      "text/plain": [
       "<IPython.core.display.HTML object>"
      ]
     },
     "metadata": {},
     "output_type": "display_data"
    },
    {
     "name": "stdout",
     "output_type": "stream",
     "text": [
      "e= 2\n"
     ]
    },
    {
     "data": {
      "text/html": [
       "$$\\begin{eqnarray}L&=&\\begin{pmatrix}1&0&0&0&0&0&0&0&0&0&0&0\\\\8&1&0&0&0&0&0&0&0&0&0&0\\\\2&9&1&0&0&0&0&0&0&0&0&0\\\\3&1&6&1&0&0&0&0&0&0&0&0\\\\3&3&9&3&1&0&0&0&0&0&0&0\\\\9&2&9&2&10&1&0&0&0&0&0&0\\\\5&2&4&7&6&10&1&0&0&0&0&0\\\\10&5&1&3&10&8&2&1&0&0&0&0\\\\3&9&2&5&8&10&5&1&1&0&0&0\\\\4&3&5&3&7&7&10&5&5&1&0&0\\\\6&4&6&3&3&10&4&7&9&9&1&0\\\\7&1&8&10&7&6&2&10&7&5&6&1\\end{pmatrix}\\end{eqnarray}$$"
      ],
      "text/plain": [
       "<IPython.core.display.HTML object>"
      ]
     },
     "metadata": {},
     "output_type": "display_data"
    },
    {
     "data": {
      "text/html": [
       "$$\\begin{eqnarray}U&=&\\begin{pmatrix}1&6&4&7&5&7&6&1&2&2&8&2\\\\0&2&7&5&10&8&3&5&3&5&4&3\\\\0&0&6&10&9&4&1&7&4&8&10&3\\\\0&0&0&5&3&4&1&2&4&3&6&6\\\\0&0&0&0&8&4&10&6&10&10&8&10\\\\0&0&0&0&0&3&4&1&9&9&1&3\\\\0&0&0&0&0&0&5&1&9&7&3&9\\\\0&0&0&0&0&0&0&5&6&6&3&1\\\\0&0&0&0&0&0&0&0&6&8&1&7\\\\0&0&0&0&0&0&0&0&0&6&7&8\\\\0&0&0&0&0&0&0&0&0&0&6&2\\\\0&0&0&0&0&0&0&0&0&0&0&10\\end{pmatrix}\\end{eqnarray}$$"
      ],
      "text/plain": [
       "<IPython.core.display.HTML object>"
      ]
     },
     "metadata": {},
     "output_type": "display_data"
    },
    {
     "data": {
      "text/html": [
       "$$\\begin{eqnarray}LU&=&\\begin{pmatrix}1&6&4&7&5&7&6&1&2&2&8&2\\\\8&50&39&61&50&64&51&13&19&21&68&19\\\\2&30&77&69&109&90&40&54&35&57&62&34\\\\3&20&55&91&82&57&28&52&37&62&94&33\\\\3&24&87&141&143&97&49&93&73&112&152&70\\\\9&58&104&173&232&166&175&147&177&215&263&166\\\\5&34&58&120&150&149&152&104&219&230&191&169\\\\10&70&81&120&198&190&221&123&247&254&225&199\\\\3&36&87&111&202&183&197&140&288&301&203&232\\\\4&30&67&108&160&133&189&144&332&351&232&279\\\\6&44&88&137&157&152&147&141&312&405&287&300\\\\7&44&83&184&203&175&167&188&333&397&376&328\\end{pmatrix}\\end{eqnarray}$$"
      ],
      "text/plain": [
       "<IPython.core.display.HTML object>"
      ]
     },
     "metadata": {},
     "output_type": "display_data"
    }
   ],
   "source": [
    "def DecompLUBlocs(A,n,l,b):\n",
    "    U = zeros((n,n))\n",
    "    L = zeros((n,n))\n",
    "    for e in range(b):\n",
    "        Aee=subm(A,l,e,e)\n",
    "        [Lee,Uee]=decompLU(Aee)\n",
    "        subm(L,l,e,e)[:]=Lee\n",
    "        subm(U,l,e,e)[:]=Uee     \n",
    "        for j in range(b-e):\n",
    "            j+=e;\n",
    "            Aje=subm(A,l,j,e)\n",
    "            Lje=resolutionSup(Uee,Aje)\n",
    "            subm(L,l,j,e)[:]=Lje\n",
    "            Aej=subm(A,l,e,j)\n",
    "            Uej=resolutionInf(Lee,Aej)\n",
    "            subm(U,l,e,j)[:]=Uej\n",
    "        for i in range(b-e):\n",
    "            i+=e\n",
    "            for j in range(b-e):\n",
    "                j+=e\n",
    "                Aij=subm(A,l,i,j)\n",
    "                Lie=subm(L,l,i,e)\n",
    "                Uej=subm(U,l,e,j)\n",
    "                Atildeij=Aij-Lie*Uej\n",
    "                subm(A,l,i,j)[:]=Atildeij\n",
    "        print(\"e=\",e)\n",
    "        show(\"L\",[L])\n",
    "        show(\"U\",[U])\n",
    "    return L, U\n",
    "\n",
    "show(\"A\",[A])\n",
    "[L,U]=DecompLUBlocs(A,n,l,b)\n",
    "show(\"LU\",[L*U])"
   ]
  }
 ],
 "metadata": {
  "kernelspec": {
   "display_name": "Python 3",
   "language": "python",
   "name": "python3"
  },
  "language_info": {
   "codemirror_mode": {
    "name": "ipython",
    "version": 3
   },
   "file_extension": ".py",
   "mimetype": "text/x-python",
   "name": "python",
   "nbconvert_exporter": "python",
   "pygments_lexer": "ipython3",
   "version": "3.8.3"
  }
 },
 "nbformat": 4,
 "nbformat_minor": 2
}
