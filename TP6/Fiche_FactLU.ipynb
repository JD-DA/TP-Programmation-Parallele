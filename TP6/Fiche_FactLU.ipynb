{
 "cells": [
  {
   "cell_type": "markdown",
   "metadata": {},
   "source": [
    "# TP6 La factorisation LU - partie 1\n",
    "## M1 informatique, Université d'Orléans 2021/2022\n",
    "\n",
    "## 1. Retour sur l'agorithme de Canon\n",
    "\n",
    "L'objectif de cette partie est de vous familiariser avec la représentation des matrices par blocs et également l'utilisation d'une topologie cartésienne pour lier le découpage des données à l'organisation des processus.\n",
    "L'implémentation de l'algorithme de Canon pour la multiplication de matrices est disponible sur Celene. Récupérez l'archive Canon.tgz pour lire le code et l'exécuter.\n",
    "\n",
    "Pour rappel on utilise les notations suivantes pour une matrice $A$ de taille $n\\times n$ et $l<n$ avec $n$ divisible par $l$\n",
    "\n",
    "$$A=(a_{ij})_{0<=i,j<n}=(A_{ij})_{0<=i,j<\\frac{n}{l}}$$\n",
    "Chaque bloc $A_{ij}$ est donc de taille $l \\times l$.\n",
    "\n",
    "On exécute ce code sur 16 processus et avec deux matrices $A$ et $B$ de taille $36 \\times 36$. "
   ]
  },
  {
   "cell_type": "markdown",
   "metadata": {},
   "source": [
    "**mpirun -np 16 -oversubscribe ./main 36 0**"
   ]
  },
  {
   "cell_type": "raw",
   "metadata": {},
   "source": [
    "Q1. Quel est la forme de la topologie cartésienne créé ? Combien y a-t-il de processus sur chaque dimension ?\n",
    "    Topologie Carrée, Il y a 4 procs dans chaque dimension\n",
    "Q2. Quel est la taille des blocs de Alocal, Blocal sur chaque processus ? Autrement dit quelle est la valeur de l ?\n",
    "9\n",
    "Q3. Quel processus contient le bloc A21 initialement ?\n",
    "Le proc de,coord 2 1\n",
    "Q4. Quel processus effectue le calcul de C12 ?\n",
    "le proc de coor 1 2\n",
    "Q5. Comment est réparti le résultat du produit ?\n",
    "Matrice est répartie de manière standart"
   ]
  },
  {
   "cell_type": "markdown",
   "metadata": {},
   "source": [
    "Pour les communications on utilise la routine *MPI_Cart_Shift* pour définir les processus avec qui des blocs de $A$ ou $B$ sont échangés."
   ]
  },
  {
   "cell_type": "raw",
   "metadata": {},
   "source": [
    "Q6. Quel est le rôle de cette routine ?\n",
    "elle permet d'échanger les cases entre voisins afin de décaler d'un certain nombre de rang les lignes ou colonnes\n",
    "Q7. Pourquoi ligne 106 et 111 on utilise mycoords[0] et mycoords[1] comme 3eme paramètre ?\n",
    "Car on a un décalage en escalier, decalage de 0 pour la premiere ligne, 1 pour le deuxieme etc.\n",
    "Q8. Sans utiliser cette routine comment auriez vous calculé le rang des voisins d'un processus pour mettre en place les communications MPI_Sendrecv_replace ?\n",
    "On aurait récuperé les coordonnées du pid puis on aurait chercher le rang de ses voisins grace à MPI_Rank\n",
    "On a : \n",
    "(i,j)\n",
    "i*p1+j"
   ]
  },
  {
   "cell_type": "markdown",
   "metadata": {},
   "source": [
    "## 2. La factorisation LU\n",
    "\n",
    "Cette partie consiste à détailler l'algorithme de la factorisation LU. L'objectif est de comprendre la version séquentielle puis la version par blocs qui va permettre de paralléliser cette factorisation.\n",
    "\n",
    "### 2.1 Compréhension de la version séquentielle\n",
    "La factorisation LU d’une matrice carrée $A$ consiste à définir une matrice triangulaire inférieure $L$ dont la diagonale est à 1 et une matrice triangulaire supérieure $U$ telles que\n",
    "$$A = LU$$\n",
    "\n",
    "L’algorithme séquentiel classique consiste à transformer $A$ progressivement en une matrice triangulaire supérieure en utilisant le pivot de Gauss, les pivots successifs permettant de construire L.\n",
    "\n",
    "Par exemple soit \n",
    "$A=\\begin{pmatrix}\n",
    "  2   &1   &3 &5\\\\\n",
    "  4   &5   &10 &12\\\\\n",
    "  6   &15   &30 &24\\\\\n",
    "  4   &17   &41 &30\\\\\n",
    "\\end{pmatrix}$, on considère que $U=A$ initialement. Si on prend comme pivot $\\frac{4}{2}=\\frac{a_{10}}{a_{00}}$ alors \n",
    "\n",
    "$$\\begin{pmatrix}4 &5 &10 &12\\end{pmatrix} - \\frac{4}{2}\\begin{pmatrix}2 &1 &3 &5 \\end{pmatrix}=\\begin{pmatrix}0 &3 &4 &2\\end{pmatrix}$$ \n",
    "\n",
    "On fait donc apparaître un 0 à la position (1,0) de $U$. Les matrices partiellement construites sont $L=\\begin{pmatrix}\n",
    "  1   &0   &0 &0\\\\\n",
    "  2   &1   &0 &0\\\\\n",
    "  .   &.  &. &.\\\\\n",
    "  .   &.  &. &.\\\\\n",
    "\\end{pmatrix}$ et $U=\\begin{pmatrix}\n",
    "  2   &1   &3 &5\\\\\n",
    "  0   &3  &4 &2\\\\\n",
    "  .   &.   &. &.\\\\\n",
    "  .   &.   &. &.\\\\\n",
    "\\end{pmatrix}$.\n",
    "\n",
    "Pour faire apparaître un 0 à la position (2,0) et (3,0) de $U$ les pivots seront respectivement $\\frac{6}{2}$ et $\\frac{4}{2}$ et on aura alors\n",
    "\n",
    "$$L=\\begin{pmatrix}\n",
    "  1   &0   &0 &0\\\\\n",
    "  2   &1   &0 &0\\\\\n",
    "  3   &.  &. &.\\\\\n",
    "  2   &.  &. &.\\\\\n",
    "\\end{pmatrix},~~ U=\\begin{pmatrix}\n",
    "  2   &1   &3 &5\\\\\n",
    "  0   &3  &4 &2\\\\\n",
    "  0   &12   &21 &9\\\\\n",
    "  0   &15   &55 &20\\\\\n",
    "\\end{pmatrix}$$."
   ]
  },
  {
   "cell_type": "raw",
   "metadata": {},
   "source": [
    "Q1. Quelle est la suite des étapes lorsqu'on a calculé la première colonne de L ?\n",
    "Q2. Terminez le calcul et vérifiez que vous trouvez au final le résultat suivant"
   ]
  },
  {
   "cell_type": "markdown",
   "metadata": {},
   "source": [
    "$$L=\\begin{pmatrix}\n",
    "  1   &0   &0 &0\\\\\n",
    "  2   &1   &0 &0\\\\\n",
    "  3   &4  &1 &0\\\\\n",
    "  2   &5  &3 &1\\\\\n",
    "\\end{pmatrix},~~ U=\\begin{pmatrix}\n",
    "  2   &1   &3 &5\\\\\n",
    "  0   &3  &4 &2\\\\\n",
    "  0   &0   &5 &1\\\\\n",
    "  0   &0   &0 &7\\\\\n",
    "\\end{pmatrix}.$$\n",
    "\n",
    "\n",
    "Il est à noter que pour stocker les matrices $L$ et $U$, il est possible d'utiliser qu'une seule matrice dont la partie inférieure est $L$ et la partie supérieure est $U$ avec la diagonale à 1 de $L$ non stockée.\n",
    "\n",
    "Si on suppose que la matrice $A$ précédente de taille $4\\times 4$ est répartie avec un élément par processus sachant qu'on travaille sur une topologie cartésienne de même taille que la matrice "
   ]
  },
  {
   "cell_type": "raw",
   "metadata": {},
   "source": [
    "Q3. Faîtes un schéma des communications nécessaires pour une étape du pivot de Gauss.\n",
    "Q4. Sachant qu'on veut utiliser des diffusions, quelles routines MPI allez vous utiliser pour exprimer les communications ?"
   ]
  },
  {
   "cell_type": "markdown",
   "metadata": {},
   "source": [
    "### 2.2 Présentation de la version par blocs\n",
    "\n",
    "Pour la parallélisation de cette factorisation, nous allons utiliser une version par bloc de l'algorithme du pivot de gauss. Nous allons aussi faire l'hypothèse qu'il n'y aura jamais de problème de pivot non défini pour cause de division par 0.\n",
    "\n",
    "Le principe de la factorisation LU par bloc est le suivant. Lorsque $A$ de taille $n\\times n$ est découpée en blocs $A_{ij}$ de taille $l\\times l$ on peut calculer la factorisation LU de $A_{00}=L_{00}U_{00}$ par l'algorithme séquentiel précédent et on peut écrire \n",
    "\n",
    "$$\\begin{pmatrix}\n",
    "  A_{00}   &A_{01} &\\ldots &A_{0(l-1)}\\\\\n",
    "  A_{10}   &A_{11} &\\ldots &A_{1(l-1)}\\\\\n",
    "  \\vdots   &\\vdots &\\ddots &\\vdots\\\\\n",
    "  A_{(l-1)0}   &A_{(l-1)1} &\\ldots &A_{(l-1)(l-1)}\\\\\n",
    "\\end{pmatrix} = \\begin{pmatrix}\n",
    "  L_{00}   &0 &\\ldots &0\\\\\n",
    "  L_{10}  \\\\\n",
    "  \\vdots &&I\\\\\n",
    "  L_{(l-1)0}\n",
    "\\end{pmatrix} \n",
    "\\times  \\begin{pmatrix}\n",
    "  U_{00}   &U_{01} &\\ldots &U_{0(l-1)}\\\\\n",
    "  0  &\\tilde A_{11} &\\ldots &\\tilde A_{1(l-1)}\\\\\n",
    "  0 &\\vdots &\\ddots &\\vdots\\\\\n",
    "  0 &\\tilde A_{(l-1)1} &\\ldots &\\tilde A_{(l-1)(l-1)}\\\\\n",
    "\\end{pmatrix}$$\n",
    "où $I$ désigne la matrice identité de taille $(n-l)\\times (n-l)$. Les matrices $L_{00}$ et $U_{00}$ sont connues et on a\n",
    "1. $L_{00}U_{0j}=A_{0j}$ pour $1\\leq j <l-1$ \n",
    "\n",
    "Puisque $L_{00}$ est triangulaire inférieure on peut calculer $U_{0j}$ par une résolution de système.\n",
    "2. $L_{i0}U_{00}=A_{i0}$ pour $1\\leq i <l-1$ \n",
    "\n",
    "Puisque $U_{00}$ est triangulaire supérieure on peut calculer $L_{i0}$ par une résolution de système.\n",
    "3. $\\tilde A_{ij}+L_{i0}U_{0j}=A_{ij}$ pour $1\\leq i,j < l-1$\n",
    "\n",
    "On connaît $L_{i0}$ et $U_{0j}$ par les calculs précédents donc on peut calculer $\\tilde A_{ij}$."
   ]
  },
  {
   "cell_type": "markdown",
   "metadata": {},
   "source": [
    "Q5. Quelles sont les étapes suivantes pour continuer le calcul de la factorisation LU ?\n",
    "Q6. Quel est le nombre d'étapes à effectuer ?\n",
    "Q7. Donnez un algorithme (en pseudo code) qui décrit les étapes du calcul."
   ]
  },
  {
   "cell_type": "markdown",
   "metadata": {},
   "source": [
    "Une première étape pour la parallélisation est de considérer que la matrice va être distribuée en respectant une topologie cartésienne. Autrement dit on va faire correspondre le nombre de blocs de la matrice avec le nombre de processus qui vont être organisés en grille 2D (comme pour l'algorithme de Canon).\n",
    "\n",
    "On suppose qu'on dispose d'une librairie de fonctions qui permet d'effectuer des calculs matriciels dont \n",
    "\n",
    "- *FactLU* qui prend une matrice $A$ en paramètre et renvoie une matrice réunissant $L$ et $U$ telque que $A=L\\times U$.\n",
    "- *ResolutionTriangSup* qui prend en paramètre une matrice triangulaire supérieur $U$ et une matrice $A$ et qui renvoie la matrice $L$ tel que $LU=A$\n",
    "- *ResolutionTriangInf* qui prend en paramètre une matrice triangulaire inférieur $L$ et une matrice $A$ et qui renvoie la matrice $U$ telque $LU=A$ \n",
    "\n",
    "\n",
    "Sur l'exemple d'une matrice $A$ de taille $36\\times 36$ et une grille logique de $4\\times 4$ processus "
   ]
  },
  {
   "cell_type": "raw",
   "metadata": {},
   "source": [
    "Q7. Reprenez votre algorithme précédent et indiquez quelles seront les communications nécessaires ?\n",
    "Q8. Précisez comment vous allez effectuer ces communications ? Les routines MPI et la manière de définir les processus impliqués dans chaque communication ?\n",
    "Q9. Est ce que tous les processus sont impliqués à chaque étape ?"
   ]
  },
  {
   "cell_type": "markdown",
   "metadata": {},
   "source": [
    "### 2.3 Répartition de la charge\n",
    "Faire l'hypothèse qu'il faut autant de processus que de blocs dans la matrice $A$ est très réductrice. Dans ce cas, l'équilibrage de charge n'est pas correcte puisque les processus vont au fur et à mesure ne plus avoir de calculs à effectuer.\n",
    "\n",
    "Une possibilité pour lever cette hypothèse est de considérer une taille de bloc $l$ inférieur à $ \\frac{n}{nbprocs}$ et de mieux répartir ces blocs sur la grille de processus. \n",
    "Si on se donne les règles suivantes \n",
    "   1. on dispose d'une grille logique de processus de taille $p \\times p$ \n",
    "   2. $n$ est divisible par $p^2$\n",
    "   2. la matrice $A$ de taille $n\\times n$ se décompose en $b \\times b$ blocs de taille $l\\times l$ avec $l=\\frac{n}{p^2}$ et $b=\\frac{n}{l}$.\n",
    " \n",
    "\n",
    "Pour la distribution il s'agit alors d'effectuer une distribution en round-robin comme illustrée ci-dessous.\n",
    "<img src=\"mapping1.jpg\" alt=\"round robin\" style=\"width:500px;\"/>\n",
    "\n",
    "Pour notre matrice $A$ de taille $36\\times 36$ il faut travailler sur une grille logique de $3 \\times 3$ pour respecter les conditions de la distribution.\n",
    "\n",
    "\n"
   ]
  },
  {
   "cell_type": "raw",
   "metadata": {},
   "source": [
    "Q10. Refaîtes le schéma de la distribution Round-Robin sur cet exemple.\n",
    "Q12. Combien de blocs de la matrice par processus ?\n",
    "Q11. Donnez les régles de calculs pour à partir des coordonnées d'un bloc connaître les coordonnées du processus qui doit le recevoir.\n",
    "Q12. Pour un processus donné de coordonnées (i,j) donnez les règles de calculs pour connaître les blocs qu'il a reçu."
   ]
  }
 ],
 "metadata": {
  "kernelspec": {
   "display_name": "Python 3 (ipykernel)",
   "language": "python",
   "name": "python3"
  },
  "language_info": {
   "codemirror_mode": {
    "name": "ipython",
    "version": 3
   },
   "file_extension": ".py",
   "mimetype": "text/x-python",
   "name": "python",
   "nbconvert_exporter": "python",
   "pygments_lexer": "ipython3",
   "version": "3.8.10"
  }
 },
 "nbformat": 4,
 "nbformat_minor": 4
}
