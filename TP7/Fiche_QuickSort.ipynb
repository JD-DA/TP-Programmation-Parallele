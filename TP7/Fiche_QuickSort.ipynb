{
 "cells": [
  {
   "cell_type": "markdown",
   "metadata": {},
   "source": [
    "# TP7 QuickSort en OpenMP\n",
    "## M1 informatique, Université d'Orléans 2021/2022\n",
    "\n",
    "L’objectif de ce TP est de paralléliser l’algorithme de tri appelé QuickSort en suivant les algorithmes vus\n",
    "en cours et décrits dans le chapitre 9 du livre ”Introduction to Parallel Computing” de A. Grama, A. Gupta, G.\n",
    "Karypis et V.Kumar (livre disponible [ici](http://srmcse.weebly.com/uploads/8/9/0/9/8909020/introduction_to_parallel_computing_second_edition-ananth_grama..pdf))\n",
    "\n",
    "Vous disposez de la version séquentielle sur Celene.\n",
    "\n",
    "### 1. La décomposition d'une étape\n",
    "\n",
    "Dans cette première partie vous allez écrire les fonctions réalisant les opérations élémentaires d’une étape de l’algorithme QuickSort. \n",
    "\n",
    "#### 1.1 La fonction Partitionnement \n",
    "\n",
    "Cette fonction permet de répartir les éléments à droite ou à gauche du pivot. Chaque thread devra effectuer le partitionnement d’un morceau du tableau global. La signature à respecter est la suivante"
   ]
  },
  {
   "cell_type": "code",
   "execution_count": null,
   "metadata": {},
   "outputs": [],
   "source": [
    "void Partitionnement(int* tab, int n, int pivot, int nb_threads, int* s, int* r);\n",
    "\n",
    "* tab est le tableau de données\n",
    "* n sa longueur\n",
    "* pivot est le pivot que vous choisirez avec la méthode de votre choix\n",
    "* nb_threads est le nombre de threads souhaité\n",
    "* s est un tableau tel que s[i] est le nombre d’éléments plus petits ou égaux au pivot pour \n",
    "le ième morceau du tableau 0 ≤ i < nb threads\n",
    "* r est un tableau tel que r[i] est le nombre d’éléments plus grand que le pivot pour \n",
    "le ième morceau du tableau 0 ≤ i < nb threads"
   ]
  },
  {
   "cell_type": "markdown",
   "metadata": {},
   "source": [
    "#### 1.2 La fonction SommePrefixe \n",
    "\n",
    "Cette fonction permet de déterminer les tableaux *somme_left* et *somme_right* de taille nb_threads+1 tels que **somme_left[i]** (respectivement **somme_right[i]**) est le nombre d’éléments plus petits\n",
    "ou égaux (respectivement plus grands) que le pivot et qui ont été trouvés par les threads qui précédent le\n",
    "**thread i** (somme_left[0] = somme_right[0]=0). \n",
    "La signature à respecter est la suivante\n"
   ]
  },
  {
   "cell_type": "code",
   "execution_count": null,
   "metadata": {},
   "outputs": [],
   "source": [
    "void SommePrefixe(int* s, int* r, int* somme_left, int* somme_right, int nb_threads);\n",
    "\n",
    "* s est le tableau calculé précedemment avec le nombre des éléments plus petits ou égaux au pivot\n",
    "* r idem pour le nombre des éléments pls grands que le pivot"
   ]
  },
  {
   "cell_type": "markdown",
   "metadata": {},
   "source": [
    "#### 1.3 La fonction Rearrangement \n",
    "\n",
    "Cette fonction permet de reconstruire correctement un nouveau tableau tel que tous les éléments plus petits ou égaux au pivot soient à gauche dans le tableau et les autres à droite. La signature à respecter est la suivante"
   ]
  },
  {
   "cell_type": "code",
   "execution_count": null,
   "metadata": {},
   "outputs": [],
   "source": [
    "void Rearrangement(int* somme_left, int* somme_right, int* tab, int* res, int n, int nb_threads);\n",
    "\n",
    "* res est le tableau résultat du réarrangement.\n",
    "* les autres paramètres sont similaires aux fonctions précédentes."
   ]
  },
  {
   "cell_type": "markdown",
   "metadata": {},
   "source": [
    "### 2. Mise en place de l’algorithme récursif\n",
    "\n",
    "Cette partie consiste à finaliser votre développement et à mettre en place l’algorithme récursif qui permet de\n",
    "réaliser le tri. Vous êtes libres de réorganiser votre code comme vous le souhaitez.\n",
    "\n",
    "Vous devrez utiliser les tâches OpenMP afin de mettre en place la récursivité. Faîtes attention à lancer qu'une seule fois les tâches en indiquant le nombre de threads qu'elles utiliseront. Lors d'une étape sur un tableau de taille **n** sur **A threads** si **m** est le nombre d'éléments plus petits ou égaux au pivot alors on exécutera le QuickSort des éléments à gauche du pivot sur **$\\bf \\lceil\\frac{m\\times A}{n}+0.5\\rceil$ threads**. "
   ]
  },
  {
   "cell_type": "code",
   "execution_count": null,
   "metadata": {},
   "outputs": [],
   "source": [
    "#pragma omp single \n",
    "{\n",
    "#pragma omp task\n",
    "    // task1....\n",
    "#pragma omp single\n",
    "    // task2...\n",
    "}"
   ]
  }
 ],
 "metadata": {
  "kernelspec": {
   "display_name": "Python 3 (ipykernel)",
   "language": "python",
   "name": "python3"
  },
  "language_info": {
   "codemirror_mode": {
    "name": "ipython",
    "version": 3
   },
   "file_extension": ".py",
   "mimetype": "text/x-python",
   "name": "python",
   "nbconvert_exporter": "python",
   "pygments_lexer": "ipython3",
   "version": "3.8.10"
  }
 },
 "nbformat": 4,
 "nbformat_minor": 4
}
