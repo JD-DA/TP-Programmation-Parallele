{
 "cells": [
  {
   "cell_type": "markdown",
   "id": "94bd9097",
   "metadata": {},
   "source": [
    "# TP3 Premiers pas avec MPI\n",
    "## M1 informatique, Université d'Orléans 2021/2022"
   ]
  },
  {
   "cell_type": "markdown",
   "id": "07e2edb9",
   "metadata": {},
   "source": [
    "L'objectif de ce TP est de mettre en place des programmes simples utilisant les routines MPI pour programmer explicitement le parallélisme.\n",
    "Dans cette fiche, vous allez utiliser exclusivement les routines de communications point-à-point."
   ]
  },
  {
   "cell_type": "markdown",
   "id": "a67a6409",
   "metadata": {},
   "source": [
    "### 1. Premier programme : Hello World"
   ]
  },
  {
   "cell_type": "markdown",
   "id": "6b670290",
   "metadata": {},
   "source": [
    "Après avoir installé **OpemMPI** compilez le programme `hello.cpp` ci-dessous à l'aide d'un `Makefile` que vous pouvez personnaliser comme vous le souhaitez."
   ]
  },
  {
   "cell_type": "markdown",
   "id": "9bd6bd77",
   "metadata": {},
   "source": [
    "Pour l'installation vous pouvez vous référer aux instructions données en cours."
   ]
  },
  {
   "cell_type": "markdown",
   "id": "fd2bade7",
   "metadata": {},
   "source": [
    "~~~make\n",
    "CXX=mpic++\n",
    "CXXFLAGS=-std=c++11 -Wall -Wextra -pedantic \n",
    "~~~"
   ]
  },
  {
   "cell_type": "markdown",
   "id": "735c2378",
   "metadata": {},
   "source": [
    "~~~C++\n",
    "#include <iostream>\n",
    "#include <mpi.h>\n",
    "\n",
    "using namespace std;\n",
    "\n",
    "int main(int argc, char *argv[])\n",
    "{\n",
    "  int pid, nprocs;\n",
    "  MPI_Init(&argc, &argv);\n",
    "  MPI_Comm_rank(MPI_COMM_WORLD, &pid);\n",
    "  MPI_Comm_size(MPI_COMM_WORLD, &nprocs);\n",
    "  cout << \"Bonjour ! Je suis le processus \" \n",
    "       << pid << \" sur \" << nprocs\n",
    "       << \" processus.\" << endl;\n",
    "  MPI_Finalize();\n",
    "  return 0;\n",
    "}\n",
    "~~~\n"
   ]
  },
  {
   "cell_type": "raw",
   "id": "483abb30",
   "metadata": {
    "lines_to_next_cell": 2
   },
   "source": [
    "Q1. Exécutez votre programme avec\n",
    "\n",
    "```\n",
    "$ mpirun -np 4 ./hello\n",
    "```\n",
    "\n",
    "Quel est le sens de l'argument -np 4 ?\n",
    "On veut 4 process"
   ]
  },
  {
   "cell_type": "raw",
   "id": "2904eda0",
   "metadata": {},
   "source": [
    "Q2. Modifiez le programme précédent pour que seuls les processus avec un identifiant pair affichent le message 'Bonjour'."
   ]
  },
  {
   "cell_type": "raw",
   "id": "76aabeb1",
   "metadata": {},
   "source": [
    "Q3. Modifiez votre programme pour que tous les processus d'identifiant pair affiche un message donné en ligne de commande et exécutez le avec \n",
    "\n",
    "```\n",
    "$ mpirun -np 4 ./hello \"Jeudi 7 oct\"\n",
    "```\n",
    "\n",
    "Comment s'effectue la diffusion des arguments en ligne de commande sur les différents processus ?"
   ]
  },
  {
   "cell_type": "markdown",
   "id": "899d4dba",
   "metadata": {},
   "source": [
    "### 2. Échanges simples entre processeurs"
   ]
  },
  {
   "cell_type": "markdown",
   "id": "1c578768",
   "metadata": {},
   "source": [
    "Le programme `echange.cpp` ci-dessous permet au processus d'identifiant 0 d'envoyer un entier au processus d'identifiant 1."
   ]
  },
  {
   "cell_type": "markdown",
   "id": "3f1dfcd7",
   "metadata": {},
   "source": [
    "~~~C++\n",
    "#include <iostream>\n",
    "#include <mpi.h>\n",
    "\n",
    "const int tag = 10;\n",
    "\n",
    "using namespace std;\n",
    "\n",
    "int main(int argc, char **argv)\n",
    "{\n",
    "  int pid, nprocs;\n",
    "  MPI_Init(&argc, &argv);\n",
    "  MPI_Comm_rank(MPI_COMM_WORLD, &pid);\n",
    "  MPI_Comm_size(MPI_COMM_WORLD, &nprocs);\n",
    "\n",
    "  int a = pid;\n",
    "\n",
    "  if (pid == 0)\n",
    "    MPI_Send(&a, 1, MPI_INT, 1, tag, MPI_COMM_WORLD);\n",
    "  if (pid == 1)\n",
    "    MPI_Recv(&a, 1, MPI_INT, 0, tag, MPI_COMM_WORLD, MPI_STATUS_IGNORE);\n",
    "\n",
    "  cout << \"je suis \" << pid << \" et a=\" << a << endl;\n",
    "\n",
    "  MPI_Finalize();\n",
    "  return 0;\n",
    "}\n",
    "~~~"
   ]
  },
  {
   "cell_type": "raw",
   "id": "419fdc3d",
   "metadata": {},
   "source": [
    "Q4. Modifiez le programme pour que chaque processus envoie son identifiant à son voisin de droite. On supposera que les processus forment un anneau et que le voisin de droite du processus d'identifiant nprocs-1 est 0."
   ]
  },
  {
   "cell_type": "raw",
   "id": "79c8e22d",
   "metadata": {},
   "source": [
    "Q5. Modifiez le programme pour que désormais chaque processus envoie un tableau dont la taille n est donnée en ligne de commande. Chaque processus aura au préalable initialisé son tableau par exemple avec son identifiant.\n",
    "\n",
    "Que se passe-t-il si vous augmentez la taille du tableau ? Pourquoi ?\n",
    "Les processus se bloquent"
   ]
  },
  {
   "cell_type": "raw",
   "id": "c5b69540",
   "metadata": {},
   "source": [
    "Q6. Proposez une solution en utilisant la routine d'envoi bloquant 'MPI_Ssend'.\n",
    "\n",
    "Comment peut-on éviter l'interblocage ?\n",
    "\n",
    "Pair : S puis R\n",
    "impair : R puis S\n",
    "\n",
    "Pourquoi est-il nécessaire d'avoir un deuxième tableau pour recevoir le message de son voisin de gauche ?\n",
    "Sinon la donnée a envoyé va ^etre écrasée par celle reçue"
   ]
  },
  {
   "cell_type": "raw",
   "id": "bd72e99d",
   "metadata": {},
   "source": [
    "Q7. Proposez une nouvelle solution en utilisant la routine 'MPI_Sendrecv_replace' qui permet de gérer à la fois l'émission et la réception dans le tableau initial."
   ]
  },
  {
   "cell_type": "markdown",
   "id": "78b02c88",
   "metadata": {},
   "source": [
    "### 3. Maximum d'un tableau"
   ]
  },
  {
   "cell_type": "markdown",
   "id": "987ef0c7",
   "metadata": {},
   "source": [
    "On souhaite paralléliser le calcul du maximum d'un tableau avec les hypothèses suivantes :\n",
    "\n",
    "1. Le tableau est généré initialement sur le processus d'identifiant 0.\n",
    "2. Le tableau est de taille *n*, *n* donné en ligne de commande et *n* divisible par le nombre de processus de l'exécution parallèle. \n",
    "3. Le résultat final doit être disponible sur le processus d'identifiant 0."
   ]
  },
  {
   "cell_type": "markdown",
   "id": "a3d64458",
   "metadata": {},
   "source": [
    "Les étapes à réaliser sont dans l'ordre, les suivantes :\n",
    "\n",
    "1. Le processus d'identifiant 0 distribue le tableau découpé en parts égales entre tous les processus ;\n",
    "2. Chaque processus calcule le maximum du morceau de tableau qu'il a reçu ;\n",
    "3.  Chaque processus envoie son maximum au processus 0 ;\n",
    "4. Le processus 0 reçoit tous les maximums locaux et finalise le calcul."
   ]
  },
  {
   "cell_type": "raw",
   "id": "92c35b8f",
   "metadata": {},
   "source": [
    "Q8. Implémentez une première version qui n'utilise que les routines 'MPI_Ssend' et 'MPI_Recv'."
   ]
  },
  {
   "cell_type": "raw",
   "id": "e0b0c80c",
   "metadata": {},
   "source": [
    "Q9. Généralisez votre implémentation en considérant que désormais on veut choisir un processus 'root' qui génére le tableau et dispose du résultat à la fin. Son identifiant sera donné en ligne de commande."
   ]
  },
  {
   "cell_type": "raw",
   "id": "1bb533d9",
   "metadata": {},
   "source": [
    "Q10. Généralisez votre implémentation en levant l'hypothèse que la taille du tableau est divisible par le nombre de processus.\n",
    "\n",
    "Comment dans ce cas répartir les données de manière équilibrée sur les processus ?"
   ]
  },
  {
   "cell_type": "raw",
   "id": "32843446",
   "metadata": {},
   "source": [
    "Q11. Remplacez le mode de communication bloquant pour l'envoi du maximum local de chaque processus par une communication non bloquante avec MPI_Issend.\n",
    "\n",
    "Comment gérer au niveau du processus 'root' qu'on a bien reçu les informations pour finaliser le calcul ?"
   ]
  },
  {
   "cell_type": "markdown",
   "id": "8cbe8841",
   "metadata": {},
   "source": [
    "### 4. Normalisation d'un vecteur"
   ]
  },
  {
   "cell_type": "markdown",
   "id": "93e348b5",
   "metadata": {},
   "source": [
    "Soit *V* un vecteur de taille *n* généré sur un processus *root*. On souhaite calculer la normalisation de ce vecteur en partageant le travail sur les différents processus et en rassemblant le résultat sur le processus *root*."
   ]
  },
  {
   "cell_type": "markdown",
   "id": "ca516d40",
   "metadata": {},
   "source": [
    "$$\n",
    "V_{\\operatorname{norm}} = \\frac{1}{\\left\\|V\\right\\|} V \\quad\\mbox{avec}\\quad\n",
    "\\left\\|V\\right\\| = \\sqrt{\\sum_{i=1}^n V_i^2}\n",
    "$$"
   ]
  },
  {
   "cell_type": "markdown",
   "id": "7b1524d0",
   "metadata": {},
   "source": [
    "On ne fait plus d'hypothèse sur la taille du vecteur, *n* peut ne pas être divisible par le nombre de processus de l'exécution parallèle.\n"
   ]
  },
  {
   "cell_type": "raw",
   "id": "c7b247a8",
   "metadata": {},
   "source": [
    "Q12. Écrivez un programme MPI dont le résultat est le vecteur V normalisé et rassemblé sur le processeur root. Vous avez le choix d'utiliser les routines de communication que vous jugez pertinentes."
   ]
  }
 ],
 "metadata": {
  "kernelspec": {
   "display_name": "Python 3 (ipykernel)",
   "language": "python",
   "name": "python3"
  },
  "language_info": {
   "codemirror_mode": {
    "name": "ipython",
    "version": 3
   },
   "file_extension": ".py",
   "mimetype": "text/x-python",
   "name": "python",
   "nbconvert_exporter": "python",
   "pygments_lexer": "ipython3",
   "version": "3.8.10"
  }
 },
 "nbformat": 4,
 "nbformat_minor": 5
}
