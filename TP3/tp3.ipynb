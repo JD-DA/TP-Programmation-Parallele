{
 "cells": [
  {
   "cell_type": "markdown",
   "metadata": {},
   "source": [
    "# TP3 Premiers pas avec MPI\n",
    "## M1 informatique, Université d'Orléans 2021/2022"
   ]
  },
  {
   "cell_type": "markdown",
   "metadata": {},
   "source": [
    "L'objectif de ce TP est de mettre en place des programmes simples utilisant les routines MPI pour programmer explicitement le parallélisme.\n",
    "Dans cette fiche, vous allez utiliser exclusivement les routines de communications point-à-point."
   ]
  },
  {
   "cell_type": "markdown",
   "metadata": {},
   "source": [
    "### 1. Premier programme : Hello World"
   ]
  },
  {
   "cell_type": "markdown",
   "metadata": {},
   "source": [
    "Après avoir installé **OpemMPI** compilez le programme `hello.cpp` ci-dessous à l'aide d'un `Makefile` que vous pouvez personnaliser comme vous le souhaitez."
   ]
  },
  {
   "cell_type": "markdown",
   "metadata": {},
   "source": [
    "Pour l'installation vous pouvez vous référer aux instructions données en cours."
   ]
  },
  {
   "cell_type": "markdown",
   "metadata": {},
   "source": [
    "~~~\n",
    "make\n",
    "    CXX=mpic++\n",
    "    CXXFLAGS=-std=c++11 -Wall -Wextra -pedantic\n",
    "    ~~~"
   ]
  },
  {
   "cell_type": "markdown",
   "metadata": {},
   "source": [
    "~~~C++\n",
    "#include <iostream>\n",
    "#include <mpi.h>\n",
    "\n",
    "using namespace std;\n",
    "\n",
    "int main(int argc, char *argv[]){\n",
    "    int pid, nprocs;\n",
    "    MPI_Init(&argc, &argv);\n",
    "    MPI_Comm_rank(MPI_COMM_WORLD, &pid);\n",
    "    MPI_Comm_size(MPI_COMM_WORLD, &nprocs);\n",
    "    cout << \"Bonjour ! Je suis le processus \" \n",
    "    << pid <<\" sur \" << nprocs\n",
    "    << \" processus.\" << endl;\n",
    "    MPI_Finalize();\n",
    "    return 0;\n",
    "}\n",
    "~~~"
   ]
  },
  {
   "cell_type": "raw",
   "metadata": {},
   "source": [
    "Q1. Exécutez votre programme avec"
   ]
  },
  {
   "cell_type": "markdown",
   "metadata": {},
   "source": [
    "'''\n",
    "$ mpirun -np 4 ./hello\n",
    "'''"
   ]
  },
  {
   "cell_type": "raw",
   "metadata": {},
   "source": [
    "Quel est le sens de l'argument -np 4 ?"
   ]
  },
  {
   "cell_type": "markdown",
   "metadata": {},
   "source": [
    "on veut 4 processus"
   ]
  },
  {
   "cell_type": "raw",
   "metadata": {},
   "source": [
    "Q2. Modifiez le programme précédent pour que seuls les processus avec un identifiant pair affichent le message 'Bonjour'."
   ]
  },
  {
   "cell_type": "raw",
   "metadata": {},
   "source": [
    "Q3. Modifiez votre programme pour que tous les processus d'identifiant pair affiche un message donné en ligne de commande et exécutez le avec"
   ]
  },
  {
   "cell_type": "markdown",
   "metadata": {},
   "source": [
    "```\n",
    "$ mpirun -np 4 ./hello \"Jeudi 7 oct\"\n",
    "```"
   ]
  },
  {
   "cell_type": "raw",
   "metadata": {},
   "source": [
    "Comment s'effectue la diffusion des arguments en ligne de commande sur les différents processus ?"
   ]
  },
  {
   "cell_type": "markdown",
   "metadata": {},
   "source": [
    "### 2. Échanges simples entre processeurs"
   ]
  },
  {
   "cell_type": "markdown",
   "metadata": {},
   "source": [
    "Le programme `echange.cpp` ci-dessous permet au processus d'identifiant 0 d'envoyer un entier au processus d'identifiant 1."
   ]
  },
  {
   "cell_type": "markdown",
   "metadata": {},
   "source": [
    "~~~C++\n",
    "#include <iostream>\n",
    "#include <mpi.h>\n",
    "\n",
    "using namespace std;\n",
    "\n",
    "int main(int argc, char *argv){\n",
    "    int pid,nprocs;\n",
    "    MPI_Init(&argc, &argv);\n",
    "    MPI_Comm_rank(MPI_COMM_WORLD, &pid);\n",
    "    MPI_Comm_size(MPI_COMM_WORLD, &nprocs);\n",
    "    int a = pid;\n",
    "    if (pid == 0)\n",
    "        MPI_Send(&a, 1, MPI_INT, 1, tag, MPI_COMM_WORLD);\n",
    "    if (pid == 1)\n",
    "        MPI_Recv(&a, 1, MPI_INT, 0, tag, MPI_COMM_WORLD, MPI_STATUS_IGNORE);\n",
    "    cout << \"je suis \" << pid << \" et a=\" << a << endl;\n",
    "    MPI_Finalize();\n",
    "    return 0;\n",
    "}\n",
    "~~~"
   ]
  },
  {
   "cell_type": "markdown",
   "metadata": {},
   "source": [
    "Q4. Modifiez le programme pour que chaque processus envoie son identifiant à son voisin de droite. On supposera que les processus forment un anneau et que le voisin de droite du processus d'identifiant nprocs-1 est 0."
   ]
  },
  {
   "cell_type": "markdown",
   "metadata": {},
   "source": [
    "Q5. Modifiez le programme pour que désormais chaque processus envoie un tableau dont la taille n est donnée en ligne de commande. Chaque processus aura au préalable initialisé son tableau par exemple avec son identifiant."
   ]
  },
  {
   "cell_type": "markdown",
   "metadata": {},
   "source": [
    "Que se passe-t-il si vous augmentez la taille du tableau ? Pourquoi ?"
   ]
  },
  {
   "cell_type": "code",
   "execution_count": 2,
   "metadata": {},
   "outputs": [
    {
     "ename": "SyntaxError",
     "evalue": "invalid syntax (<ipython-input-2-299d0426cafe>, line 1)",
     "output_type": "error",
     "traceback": [
      "\u001b[0;36m  File \u001b[0;32m\"<ipython-input-2-299d0426cafe>\"\u001b[0;36m, line \u001b[0;32m1\u001b[0m\n\u001b[0;31m    10000 -> processus se bloquent\u001b[0m\n\u001b[0m          ^\u001b[0m\n\u001b[0;31mSyntaxError\u001b[0m\u001b[0;31m:\u001b[0m invalid syntax\n"
     ]
    }
   ],
   "source": [
    "10000 -> processus se bloquent"
   ]
  },
  {
   "cell_type": "markdown",
   "metadata": {},
   "source": [
    "Q6. Proposez une solution en utilisant la routine d'envoi bloquant 'MPI_Ssend"
   ]
  },
  {
   "cell_type": "markdown",
   "metadata": {},
   "source": [
    "Comment peut-on éviter l'interblocage ?"
   ]
  },
  {
   "cell_type": "raw",
   "metadata": {},
   "source": [
    "Pair : S puis R\n",
    "impair : R puis S"
   ]
  },
  {
   "cell_type": "markdown",
   "metadata": {},
   "source": [
    "Pourquoi est-il nécessaire d'avoir un deuxième tableau pour recevoir le message de son voisin de gauche ?"
   ]
  },
  {
   "cell_type": "markdown",
   "metadata": {},
   "source": [
    "Q7. Proposez une nouvelle solution en utilisant la routine 'MPI_Sendrecv_replace' qui permet de gérer à la fois l'émission et la réception dans le tableau initial."
   ]
  },
  {
   "cell_type": "markdown",
   "metadata": {},
   "source": [
    "### 3. Maximum d'un tableau"
   ]
  },
  {
   "cell_type": "markdown",
   "metadata": {},
   "source": [
    "~~~make\n",
    "CXX=mpic++\n",
    "CXXFLAGS=-std=c++11 -Wall -Wextra -pedantic \n",
    "~~~"
   ]
  }
 ],
 "metadata": {
  "kernelspec": {
   "display_name": "Python 3",
   "language": "python",
   "name": "python3"
  },
  "language_info": {
   "codemirror_mode": {
    "name": "ipython",
    "version": 3
   },
   "file_extension": ".py",
   "mimetype": "text/x-python",
   "name": "python",
   "nbconvert_exporter": "python",
   "pygments_lexer": "ipython3",
   "version": "3.8.10"
  }
 },
 "nbformat": 4,
 "nbformat_minor": 5
}
