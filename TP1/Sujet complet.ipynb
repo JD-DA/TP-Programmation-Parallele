{
 "cells": [
  {
   "cell_type": "markdown",
   "metadata": {},
   "source": [
    "# TP1 Premiers pas avec OpenMP\n",
    "## M1 informatique, Université d'Orléans 2021/2022"
   ]
  },
  {
   "cell_type": "markdown",
   "metadata": {},
   "source": [
    "*L'objectif de ce TP est de découvrir [OpenMP](https://www.openmp.org/) en expérimentant les différentes directives depuis les plus bas niveaux jusqu'aux constructions les plus sophistiquées autour des boucles.*\n",
    "\n",
    "### 0. Fiches de TP"
   ]
  },
  {
   "cell_type": "markdown",
   "metadata": {},
   "source": [
    "Les énoncés des TP sont fournis sous forme de *notebook Jupyter*. Il s'agit de documents modifiables. Lorsque le document est visualisé dans un navigateur web, des menus (et éventuellement une barre d'outil si elle est activée) permettent de manipuler le document."
   ]
  },
  {
   "cell_type": "markdown",
   "metadata": {},
   "source": [
    "Le document est composé d'une suite de cellules qui peuvent contenir du texte mis en forme au [format Markdown](https://medium.com/analytics-vidhya/the-ultimate-markdown-guide-for-jupyter-notebook-d5e5abf728fd), du code Python ou encore du texte brut. Ces cellules peuvent être *déplacées*, de nouvelles cellules **insérées**, etc."
   ]
  },
  {
   "cell_type": "raw",
   "metadata": {
    "lines_to_next_cell": 2,
    "tags": [
     "question"
    ]
   },
   "source": [
    "Q0. Les énoncés comportent des zones question (comme celle-ci) dans lesquelles écrire vos réponses. Prenez le temps de répondre à chacune de ces questions, c'est le meilleur moyen de bien assimiler le TP.\n",
    "\n",
    "Si ce n'est pas déjà fait, activez l'affichage de la barre d'outils.\n",
    "\n",
    "En observant les menus et le code source des cellules précédentes, expliquez comment il est possible :\n",
    " - d'insérer une cellule de texte Markdown :\n",
    "\n",
    " - d'exécuter une cellule Markdown pour passer du code source à la vue formattée :\n",
    "\n",
    " - de mettre en gras un passage :\n",
    "\n",
    " - d'insérer un lien vers une page web : \n",
    "\n"
   ]
  },
  {
   "cell_type": "markdown",
   "metadata": {},
   "source": [
    "*PS. Pour ceux d'entre nous qui préférent travailler en mode texte ou dans un terminal, il est possible de travailler sur le source de la fiche de TP. On perd simplement la possibilité d'exécuter directement du code Python au fil de l'eau dans la fiche.*"
   ]
  },
  {
   "cell_type": "markdown",
   "metadata": {},
   "source": [
    "## 1. Hello parallel world!"
   ]
  },
  {
   "cell_type": "markdown",
   "metadata": {},
   "source": [
    "Pour cette première partie, il suffit de disposer d'un compilateur C++ avec support pour OpenMP, d'un terminal ouvert et d'un éditeur de fichiers."
   ]
  },
  {
   "cell_type": "markdown",
   "metadata": {},
   "source": [
    "Commençons par créer un fichier `Makefile` pour préciser quel compilateur utiliser et quels arguments lui passer à la compilation. Nous n'écrirons pas de règles, notre source n'ayant aucune dépendance, les règles implicites suffiront pour compiler notre programme."
   ]
  },
  {
   "cell_type": "raw",
   "metadata": {},
   "source": [
    "```make\n",
    "CXX=g++\n",
    "CXXFLAGS=-std=c++11 -Wall -Wextra -pedantic -fopenmp\n",
    "```"
   ]
  },
  {
   "cell_type": "markdown",
   "metadata": {},
   "source": [
    "Et voici notre premier programme OpenMP `hello.cpp`"
   ]
  },
  {
   "cell_type": "markdown",
   "metadata": {},
   "source": [
    "~~~c++\n",
    "#include <iostream>\n",
    "#include <omp.h>\n",
    "using namespace std;\n",
    "\n",
    "int main(int, char *[])\n",
    "{\n",
    "    cout << \"Bonjour\" << endl;\n",
    "    cout << \"Nous sommes \" << omp_get_num_threads() << \" threads dans cette équipe\" << endl;\n",
    "    cout << \"Au revoir\" << endl;\n",
    "}\n",
    "~~~"
   ]
  },
  {
   "cell_type": "markdown",
   "metadata": {},
   "source": [
    "Si tout se passe bien, la commande `make hello` devrait compiler ce programme et sans surprise au lancement on obtient un comportement très séquentiel."
   ]
  },
  {
   "cell_type": "markdown",
   "metadata": {},
   "source": [
    "```\n",
    "$ ./hello \n",
    "Bonjour\n",
    "Nous sommes 1 threads dans cette équipe\n",
    "Au revoir\n",
    "```"
   ]
  },
  {
   "cell_type": "raw",
   "metadata": {},
   "source": [
    "Q1. Relancez la commande en plaçant `TRUE` dans la variable d'environnement `OMP_DISPLAY_ENV` et copiez ici le résultat. Ce sont les valeurs par défaut des paramètres configurables depuis l'environnement d'exécution.\n",
    "\n",
    "```\n",
    "$ OMP_DISPLAY_ENV=TRUE ./hello\n",
    "```\n",
    "\n",
    "OPENMP DISPLAY ENVIRONMENT BEGIN\n",
    "  _OPENMP = '201511'\n",
    "  OMP_DYNAMIC = 'FALSE'\n",
    "  OMP_NESTED = 'FALSE'\n",
    "  OMP_NUM_THREADS = '4'\n",
    "  OMP_SCHEDULE = 'DYNAMIC'\n",
    "  OMP_PROC_BIND = 'FALSE'\n",
    "  OMP_PLACES = ''\n",
    "  OMP_STACKSIZE = '0'\n",
    "  OMP_WAIT_POLICY = 'PASSIVE'\n",
    "  OMP_THREAD_LIMIT = '4294967295'\n",
    "  OMP_MAX_ACTIVE_LEVELS = '2147483647'\n",
    "  OMP_CANCELLATION = 'FALSE'\n",
    "  OMP_DEFAULT_DEVICE = '0'\n",
    "  OMP_MAX_TASK_PRIORITY = '0'\n",
    "  OMP_DISPLAY_AFFINITY = 'FALSE'\n",
    "  OMP_AFFINITY_FORMAT = 'level %L thread %i affinity %A'\n",
    "OPENMP DISPLAY ENVIRONMENT END\n",
    "Bonjour\n",
    "Nous sommes 1 threads dans cette équipe\n",
    "Au revoir\n",
    "\n",
    "\n"
   ]
  },
  {
   "cell_type": "markdown",
   "metadata": {},
   "source": [
    "### 1.1. pragma omp parallel"
   ]
  },
  {
   "cell_type": "markdown",
   "metadata": {},
   "source": [
    "La directive `#pragma omp parallel` indique que l'instruction (ou le bloc d'instructions) qui suit doit être exécuté par une équipe de *threads* (souvenez-vous qu'openMP repose sur le paradigme de programmation parallèle [fork-join](https://en.wikipedia.org/wiki/Fork–join_model))."
   ]
  },
  {
   "cell_type": "raw",
   "metadata": {},
   "source": [
    "Q2. Ajoutez la directive `#pragma omp parallel` juste avant la ligne qui affiche `Bonjour` puis recompilez et exécutez le programme `hello`. Quelle sortie obtenez-vous ? Pourquoi autant de fois `Bonjour` et si peu de fois `Au revoir` ?\n",
    "\n",
    "BonjourBonjour\n",
    "Bonjour\n",
    "\n",
    "Bonjour\n",
    "Nous sommes 1 threads dans cette équipe\n",
    "Au revoir\n",
    "\n",
    "Tous les threads executent la premiere instruction et le reste par un seul\n",
    "\n",
    "\n",
    "\n",
    "\n",
    "Modifiez le programme pour que ce soit tout le bloc d'affichage `Bonjour` + `Au revoir` qui soit parallélisé. Quel affichage obtenez-vous ? Reste-t-il identique si vous relancez le programme ?\n",
    "\n",
    "BonjourBonjour\n",
    "Nous sommes 4 threads dans cette équipe\n",
    "Au revoir\n",
    "Bonjour\n",
    "Nous sommes 4 threads dans cette équipe\n",
    "Au revoir\n",
    "Bonjour\n",
    "Nous sommes 4 threads dans cette équipe\n",
    "Au revoir\n",
    "\n",
    "Nous sommes 4 threads dans cette équipe\n",
    "Au revoir\n",
    "\n",
    "Ils accèdent tous a la sortie de manière désordonnée"
   ]
  },
  {
   "cell_type": "markdown",
   "metadata": {},
   "source": [
    "La fonction de bibliothèque `omp_get_num_threads` permet de connaître le nombre total de *threads* dans l'équipe et la fonction `omp_get_thread_num` indique le numéro du *thread* courant. "
   ]
  },
  {
   "cell_type": "markdown",
   "metadata": {},
   "source": [
    "La variable d'environnement `OMP_NUM_THREADS` permet de spécifier le nombre de *threads* souhaités. *Il est aussi possible d'utiliser la fonction de la bibliothèque `omp_set_num_threads` mais l'utilisation d'une variable d'environnement permet de changer la valeur plus facilement sans recompiler le programme.*"
   ]
  },
  {
   "cell_type": "markdown",
   "metadata": {},
   "source": [
    "*Les variables déclarées à l'intérieur d'un bloc parallèle sont par défaut privées : chaque thread dispose de sa propre variable. Les variables déclarées à l'extérieur d'un bloc parallèle et celles allouées sur le tas sont partagées par tous les threads de l'équipe.*"
   ]
  },
  {
   "cell_type": "raw",
   "metadata": {},
   "source": [
    "Q3. Modifiez votre programme pour que chaque thread stocke son identifiant et le nombre total de *threads* dans des variables `id` et `np` puis affichez `Bonjour(13/54)` puis `Au revoir(13/54)` où `54` est remplacé par le nombre de *threads* de l'équipe et `13` par le numéro du *thread* courant. Quelle commande pour lancer le programme avec 32 *threads* ? Quel affichage obtenez-vous ?\n"
   ]
  },
  {
   "cell_type": "markdown",
   "metadata": {},
   "source": [
    "~~~c++\n",
    "pragma omp parallel\n",
    "    {\n",
    "        int nb = omp_get_num_threads();\n",
    "        cout << \"Bonjour (\" << omp_get_thread_num() << \"/\"<<nb<<\")\"<< endl;\n",
    "        cout << \"Au revoir(\" << omp_get_thread_num() << \"/\"<<nb<<\")\"<< endl;\n",
    "    }\n",
    "~~~"
   ]
  },
  {
   "cell_type": "markdown",
   "metadata": {},
   "source": [
    "OMP_NUM_THREADS=32 ./hello\n",
    "=> 32 threads"
   ]
  },
  {
   "cell_type": "raw",
   "metadata": {},
   "source": [
    "Bonjour (Bonjour (0/4)\n",
    "Au revoir(Bonjour (0/4)\n",
    "3/4)\n",
    "Au revoir(3/4)\n",
    "Bonjour (1/4)\n",
    "Au revoir(1/4)\n",
    "2/4)\n",
    "Au revoir(2/4)\n"
   ]
  },
  {
   "cell_type": "markdown",
   "metadata": {},
   "source": [
    "### 1.2. pragma omp critical, single, barrier"
   ]
  },
  {
   "cell_type": "markdown",
   "metadata": {},
   "source": [
    "La directive `#pragma omp critical` définit une section critique, une portion de code qui ne peut être accédée par les *threads* qu'un seul à la fois."
   ]
  },
  {
   "cell_type": "raw",
   "metadata": {},
   "source": [
    "Q4. Modifiez votre programme pour que les affichages ne s'entremêlent pas : associer une section critique à chaque ligne d'affichage.\n"
   ]
  },
  {
   "cell_type": "markdown",
   "metadata": {},
   "source": [
    "~~~c++\n",
    "int nb = omp_get_num_threads();\n",
    "        #pragma omp critical\n",
    "        cout << \"Bonjour (\" << omp_get_thread_num() << \"/\"<<nb<<\")\"<< endl;\n",
    "        #pragma omp critical\n",
    "        cout << \"Au revoir(\" << omp_get_thread_num() << \"/\"<<nb<<\")\"<< endl;\n",
    "~~~"
   ]
  },
  {
   "cell_type": "raw",
   "metadata": {},
   "source": [
    "Bonjour (1/4)\n",
    "Au revoir(1/4)\n",
    "Bonjour (2/4)\n",
    "Au revoir(2/4)\n",
    "Bonjour (0/4)\n",
    "Au revoir(0/4)\n",
    "Bonjour (3/4)\n",
    "Au revoir(3/4)"
   ]
  },
  {
   "cell_type": "markdown",
   "metadata": {},
   "source": [
    "La directive `#pragma omp barrier` définit une barrière de synchronisation, un rendez-vous que tous les *threads* doivent avoir rejoint avant d'être autorisés à poursuivre leur exécution."
   ]
  },
  {
   "cell_type": "raw",
   "metadata": {},
   "source": [
    "Q5. Modifiez votre programme pour que personne ne dise `au revoir` avant que tout le monde n'ait terminé de dire `bonjour` !\n"
   ]
  },
  {
   "cell_type": "markdown",
   "metadata": {},
   "source": [
    "~~~c\n",
    "int nb = omp_get_num_threads();\n",
    "#pragma omp critical\n",
    "cout << \"Bonjour (\" << omp_get_thread_num() << \"/\"<<nb\n",
    "<<\")\"<< endl;\n",
    "//cout << \"Nous sommes \" << omp_get_num_threads() << \" t\n",
    "hreads dans cette équipe\" << endl;\n",
    "//cout << \"Info donnée par le thread numéro : \" << omp_g\n",
    "et_thread_num() << \"/\"<<nb<< endl;\n",
    "#pragma omp barrier\n",
    "cout << \"Au revoir(\" << omp_get_thread_num() << \"/\"<<nb\n",
    "<<\")\"<< endl;\n",
    "~~~"
   ]
  },
  {
   "cell_type": "raw",
   "metadata": {},
   "source": [
    "Bonjour (0/4)\n",
    "Bonjour (2/4)\n",
    "Bonjour (1/4)\n",
    "Bonjour (3/4)\n",
    "Au revoir(2Au revoir(3/4)/4)\n",
    "Au revoir(1/4)\n",
    "Au revoir(0/4)"
   ]
  },
  {
   "cell_type": "markdown",
   "metadata": {},
   "source": [
    "La directive `#pragma omp single` définit une section de code qui sera exécutée par un unique *thread*."
   ]
  },
  {
   "cell_type": "raw",
   "metadata": {},
   "source": [
    "Q6. Modifiez votre programme pour qu'un seul thread annonce le nombre de threads de l'équipe une fois que tout le monde a dit `bonjour` et qu'un second thread (pas nécessairement le même) annonce la fin du TP ensuite, avant que tout le monde dise `au revoir`. N'oubliez pas de faire en sorte que ces threads qui parlent annoncent leur `id`.\n"
   ]
  },
  {
   "cell_type": "markdown",
   "metadata": {},
   "source": [
    "~~~c\n",
    "int main(int, char *[])\n",
    "{\n",
    "#pragma omp parallel\n",
    "{\n",
    "int nb = omp_get_num_threads();\n",
    "#pragma omp critical\n",
    "cout << \"Bonjour (\" << omp_get_thread_num() << \"/\"<<nb<<\")\"<<\n",
    "endl;\n",
    "#pragma omp barrier\n",
    "#pragma omp single\n",
    "cout<< \"Nous sommes : \"<<nb<< endl;\n",
    "#pragma omp single\n",
    "cout<< \"C'est bientot la fin du TP \"<< endl;\n",
    "#pragma omp barrier\n",
    "#pragma omp critical\n",
    "cout << \"Au revoir(\" << omp_get_thread_num() <<\n",
    "\"/\"<<nb<<\")\"<< endl;\n",
    "}\n",
    "}\n",
    "~~~"
   ]
  },
  {
   "cell_type": "raw",
   "metadata": {},
   "source": [
    "Bonjour (3/4)\n",
    "Bonjour (2/4)\n",
    "Bonjour (1/4)\n",
    "Bonjour (0/4)\n",
    "Nous sommes : 4\n",
    "C'est bientot la fin du TP\n",
    "Au revoir(2/4)\n",
    "Au revoir(0/4)\n",
    "Au revoir(1/4)\n",
    "Au revoir(3/4)"
   ]
  },
  {
   "cell_type": "markdown",
   "metadata": {},
   "source": [
    "### 1.3. On récapitule et on mesure le temps de calcul !"
   ]
  },
  {
   "cell_type": "markdown",
   "metadata": {},
   "source": [
    "Voici un programme `syracuse.cpp` que nous allons paralléliser. Il utilise la fonction de bibliothèque `omp_get_wtime` pour mesurer le temps réel écoulé entre deux points du programme."
   ]
  },
  {
   "cell_type": "markdown",
   "metadata": {},
   "source": [
    "~~~c++\n",
    "#include <iostream>\n",
    "#include <omp.h>\n",
    "using namespace std;\n",
    "\n",
    "#define TOTAL 2000000\n",
    "\n",
    "int main(int, char *[])\n",
    "{\n",
    "    int pass=0, cur;\n",
    "    double start = omp_get_wtime();\n",
    "///////////////////// MODIFIER A PARTIR D'ICI UNIQUEMENT /////////////////////\n",
    "    for(int i=0; i<TOTAL; i++) {\n",
    "        cur=i;\n",
    "        while (cur>1)\n",
    "            cur=cur%2?3*cur+1:cur/2;\n",
    "        pass++;\n",
    "    }\n",
    "///////////////////// MODIFIER JUSQU'ICI UNIQUEMENT /////////////////////\n",
    "    double end = omp_get_wtime();\n",
    "    cout << pass << \" out of \" << TOTAL << \"! (delta=\" << TOTAL-pass << \")\" << endl;\n",
    "    cout << \"ellapsed time: \" << (end-start)*1000 << \"ms\" << endl;\n",
    "}\n",
    "~~~"
   ]
  },
  {
   "cell_type": "raw",
   "metadata": {},
   "source": [
    "Q7. Compilez et exécutez le programme. Vérifiez que la variable `pass` doit être égale à `TOTAL` en fin de programme. Si besoin, modifier la valeur de `TOTAL` pour avoir un temps d'exécution de l'ordre de `1000ms`.\n",
    "\n"
   ]
  },
  {
   "cell_type": "raw",
   "metadata": {},
   "source": [
    " Q8. En utilisant **uniquement les directives vues ci-dessus**, parallélisez ce programme. Attention, le comportement du programme doit toujours être le même, il s'agit de répartir le travail entre plusieurs *threads* ! Si besoin, utilisez des sections critiques pour protéger l'accès aux variables partagées. Attention à la variable `cur` qui mérite sans doute une version privée par `thread` !\n",
    "\n"
   ]
  },
  {
   "cell_type": "markdown",
   "metadata": {},
   "source": [
    "Si votre programme effectue une section critique à chaque passage dans la boucle... il est certainement peu efficace et la parallélisation peut même aller jusqu'à dégrader le temps de calcul par rapport au séquentiel !"
   ]
  },
  {
   "cell_type": "raw",
   "metadata": {},
   "source": [
    "Q9. Ajoutez une variable privée `mycur` par thread et effectuez une unique section critique pour mettre à jour `pass` après la boucle. Exécutez le programme et observez le gain de temps ! L'accélération obtenue est-elle égale au nombre de threads ? Pourquoi ?\n",
    "\n"
   ]
  },
  {
   "cell_type": "markdown",
   "metadata": {},
   "source": [
    "~~~c\n",
    "#pragma omp parallel\n",
    "    {\n",
    "        int passres=0; //pass local que l'on ajoute à la fin des iterations pour eviter un trop grand nombre d'accès critical\n",
    "        int curlocal; //curr local pour éviter colisions\n",
    "        int id = omp_get_thread_num();\n",
    "        int num = omp_get_num_threads();\n",
    "        for (int i = id; i < TOTAL; i+=num) {\n",
    "            curlocal = i;\n",
    "            while (curlocal > 1)\n",
    "                curlocal = curlocal % 2 ? 3 * curlocal+ 1 : curlocal / 2;\n",
    "\n",
    "            passres++;\n",
    "        }\n",
    "        #pragma omp critical\n",
    "        pass+=passres;\n",
    "\n",
    "    }\n",
    "~~~"
   ]
  },
  {
   "cell_type": "markdown",
   "metadata": {},
   "source": [
    "*PS. On pourra s'aider d'une boucle shell comme ceci :*\n",
    "```\n",
    "$ for np in 1 2 4 8 16; do OMP_NUM_THREADS=$np ./syracuse; done\n",
    "```"
   ]
  },
  {
   "cell_type": "raw",
   "metadata": {},
   "source": [
    "2000000 out of 2000000! (delta=0)\n",
    "ellapsed time: 1238.3ms\n",
    "2000000 out of 2000000! (delta=0)\n",
    "ellapsed time: 690.108ms\n",
    "2000000 out of 2000000! (delta=0)\n",
    "ellapsed time: 442.134ms\n",
    "2000000 out of 2000000! (delta=0)\n",
    "ellapsed time: 442.228ms\n",
    "2000000 out of 2000000! (delta=0)\n",
    "ellapsed time: 423.145ms"
   ]
  },
  {
   "cell_type": "raw",
   "metadata": {},
   "source": [
    "CHECK-POINT #1 <<<<<<< LORSQUE VOUS ATTEIGNEZ CETTE ENDROIT DE LA FICHE, APPELEZ VOTRE CHARGÉ DE TP ! >>>>>>>>"
   ]
  },
  {
   "cell_type": "markdown",
   "metadata": {},
   "source": [
    "## 2. Vers l'infini et au-delà"
   ]
  },
  {
   "cell_type": "markdown",
   "metadata": {},
   "source": [
    "Dans cette deuxième partie, nous allons paralléliser un code existant. Téléchargez et décompressez l'archive\n",
    "`astro.tar.gz` fournie avec le TP. **Lire le fichier `README.md`** — dans un premier temps, vous pouvez laisser de côté la partie `bench` et `show` qui servira à effectuer des mesures de performance."
   ]
  },
  {
   "cell_type": "markdown",
   "metadata": {},
   "source": [
    "Le programme à paralléliser prend en entrée une image au format [FITS](https://fr.wikipedia.org/wiki/Flexible_Image_Transport_System) $\\operatorname{Astro}$ et produit en sortie une image $\\operatorname{Resca}$ au format [PGM](https://fr.wikipedia.org/wiki/Portable_pixmap) produite par une mise à l'échelle comme ceci :"
   ]
  },
  {
   "cell_type": "markdown",
   "metadata": {},
   "source": [
    "$$\n",
    "\\forall i,j,\\quad \\operatorname{Resca}(i,j) = 255\\frac{\\operatorname{Astro}(i,j)-m}{M-m}\\qquad\\mbox{où }\n",
    "\\begin{cases}M=\\max_{i,j}\\operatorname{Astro}(i,j) \\\\ m=\\min_{i,j}\\operatorname{Astro}(i,j)\\end{cases}\n",
    "$$"
   ]
  },
  {
   "cell_type": "markdown",
   "metadata": {},
   "source": [
    "Ces calculs sont effectués dans la partie du code qui est à modifier :"
   ]
  },
  {
   "cell_type": "markdown",
   "metadata": {},
   "source": [
    "~~~c++\n",
    "    ///////////////////// MODIFIER A PARTIR D'ICI UNIQUEMENT /////////////////\n",
    "    for (j = 0; j < astro.height(); j++)\n",
    "      for (i = 0; i < astro.width(); i++) {\n",
    "        amin = min(amin, astro(i, j));\n",
    "        amax = max(amax, astro(i, j));\n",
    "      }\n",
    "    unsigned short arange = amax - amin;\n",
    "    for (j = 0; j < astro.height(); j++)\n",
    "      for (i = 0; i < astro.width(); i++)\n",
    "        resca(i, j) = (astro(i, j) - amin) * 255 / arange;\n",
    "    ///////////////////// MODIFIER JUSQU'ICI UNIQUEMENT /////////////////////\n",
    "~~~\n"
   ]
  },
  {
   "cell_type": "raw",
   "metadata": {},
   "source": [
    "Q10. Compilez et exécutez le programme `linear` en suivant les instructions du fichier `README.md`. Visualisez l'image obtenue et copiez là dans un fichier `resca-ref.pgm`.\n",
    "\n",
    "\n",
    "Dans le code ci-dessus il y a deux boucles. Laquelle vous semble la plus facile à paralléliser ? Quel est le rôle des variables `amin`, `amax` et `arange` ?\n",
    "\n",
    "Les deux semblent parralellisable.  \n",
    "premiere boucle : non independante, amin et amax variable globales"
   ]
  },
  {
   "cell_type": "raw",
   "metadata": {},
   "source": [
    "Q11. En utilisant **uniquement les directives vues en partie 1**, parallélisez ce programme en créant deux régions parallèles, une autour de chaque bloc de boucles. Testez votre programme avec `10` itérations et comparez son temps de calcul à la version séquentielle.  \n",
    "\n",
    "Vérifiez que l'image produite est bien identique à la version séquentielle !\n",
    "\n",
    "\n",
    "pbl du code original : acces concurrent sur i et j"
   ]
  },
  {
   "cell_type": "markdown",
   "metadata": {},
   "source": [
    "**Astuce.** Pour comparer les deux images `resca-ref.pgm` et `resca.pgm`, vous pouvez utiliser par exemple l'outil de comparaison de *Image Magick* ou *Graphics Magick* si vous en disposez :\n",
    "\n",
    "```\n",
    "$ compare /tmp/resca-ref.pgm /tmp/resca.pgm /tmp/diff.png && xdg-open /tmp/diff.png\n",
    "$ magick compare /tmp/resca-ref.pgm /tmp/resca.pgm /tmp/diff.png && xdg-open /tmp/diff.png\n",
    "$ gm compare /tmp/resca-ref.pgm /tmp/resca.pgm /tmp/diff.png && xdg-open /tmp/diff.png\n",
    "```\n",
    "\n",
    "Sinon vous pouvez de manière plus minimaliste et comparer les empreintes des deux fichiers pour tester leur égalité :\n",
    "\n",
    "```\n",
    "$ shasum /tmp/resca-ref.pgm /tmp/resca.pgm\n",
    "```"
   ]
  },
  {
   "cell_type": "markdown",
   "metadata": {},
   "source": [
    "~~~c\n",
    "#pragma omp parallel\n",
    "      {\n",
    "          int id = omp_get_thread_num();\n",
    "          int num = omp_get_num_threads();\n",
    "          unsigned short locAmin=0;\n",
    "          unsigned short locAmax=0;\n",
    "#pragma omp critical\n",
    "          std::cout<<\"le thread n°\"<<id<<\" est en cours d'execution\"<<std::endl;\n",
    "          for (j = id; j < astro.height(); j+=num)\n",
    "              for (i = 0; i < astro.width(); i++) {\n",
    "                  locAmin = min(locAmin, astro(i, j));\n",
    "                  locAmax = max(locAmax, astro(i, j));\n",
    "              }\n",
    "\n",
    "#pragma omp critical\n",
    "          amin = min(locAmin, amin);\n",
    "          amax = max(locAmax, amax);\n",
    "      }\n",
    "\n",
    "      unsigned short arange = amax - amin;\n",
    "      long len=0;\n",
    "#pragma omp parallel private i,j\n",
    "      {\n",
    "          int id = omp_get_thread_num();\n",
    "          int num = omp_get_num_threads();\n",
    "\n",
    "#pragma omp critical\n",
    "          std::cout << \"le thread n°\" << id << \" est en cours d'execution\" << std::endl;\n",
    "          int lenLocal = 0;\n",
    "          for (j = id; j < astro.height(); j += num) {\n",
    "              lenLocal += 1;\n",
    "              for (i = 0; i < astro.width(); i++)\n",
    "                  resca(i, j) = (astro(i, j) - amin) * 255 / arange;\n",
    "          }\n",
    "#pragma omp critical\n",
    "          {\n",
    "              len += lenLocal;\n",
    "              std::cout << \"le thread n°\" << id << \" a parcouru \"<<lenLocal<<\" lignes\" << std::endl;\n",
    "          }\n",
    "\n",
    "      }\n",
    "      std::cout<<\"le nombre de ligne parcouru est\"<<len<<\" sur \"<<astro.height()<<std::endl;\n",
    "      ///////////////////// MODIFIER JUSQU'ICI UNIQUEMENT /////////////////////\n",
    "  }\n",
    "~~~"
   ]
  },
  {
   "cell_type": "markdown",
   "metadata": {},
   "source": [
    "### 2.1. pragma omp for, collapse"
   ]
  },
  {
   "cell_type": "markdown",
   "metadata": {},
   "source": [
    "Les boucles sont tellement fréquentes dans le code numérique à paralléliser qu'OpenMP dispose de directives dédiées à cette tâche. Ainsi `#pragma omp for` distribue les indices de la boucle qui suit la directive entre les différents *threads* de l'équipe et nous libère des fastidieux calculs associés."
   ]
  },
  {
   "cell_type": "raw",
   "metadata": {},
   "source": [
    "Q12. Simplifiez votre code parallèle pour utiliser un `#pragma omp for` devant les boucles indicées par `j` de chaque région. OpenMP s'occupe de privatiser la variable de boucle mais attention aux autres variables ! *En particulier il faut veiller à calculer le minimum et le maximum correctement avec une section critique.*\n",
    "\n",
    "Vérifiez que l'image produite est bien identique à la version séquentielle !\n"
   ]
  },
  {
   "cell_type": "markdown",
   "metadata": {},
   "source": [
    "~~~c\n",
    "#pragma omp parallel\n",
    "      {\n",
    "          unsigned short locAmin=0;\n",
    "          unsigned short locAmax=0;\n",
    "#pragma omp for\n",
    "          for (j = 0; j < astro.height(); j++)\n",
    "              for (int i = 0; i < astro.width(); i++) {\n",
    "                  locAmin = min(locAmin, astro(i, j));\n",
    "                  locAmax = max(locAmax, astro(i, j));\n",
    "              }\n",
    "\n",
    "#pragma omp critical\n",
    "          amin = min(locAmin, amin);\n",
    "          amax = max(locAmax, amax);\n",
    "      }\n",
    "\n",
    "      unsigned short arange = amax - amin;\n",
    "#pragma omp parallel\n",
    "      {\n",
    "#pragma omp for\n",
    "          for (j = 0; j < astro.height(); j++) {\n",
    "              for (int i = 0; i < astro.width(); i++)\n",
    "                  resca(i, j) = (astro(i, j) - amin) * 255 / arange;\n",
    "          }\n",
    "\n",
    "      }\n",
    "~~~"
   ]
  },
  {
   "cell_type": "markdown",
   "metadata": {},
   "source": [
    "Lorsque plusieurs boucles sont imbriquées, la clause `collapse(N)` permet de paralléliser simultanément les `N` premiers niveaux de boucles. Dans notre exemple il peut être pertinent de traiter les deux boucles simultanément."
   ]
  },
  {
   "cell_type": "raw",
   "metadata": {},
   "source": [
    "Q13. Modifiez votre programme pour paralléliser les deux niveaux de boucle simultanément.\n",
    "\n",
    "Vérifiez que l'image produite est bien identique à la version séquentielle !\n"
   ]
  },
  {
   "cell_type": "markdown",
   "metadata": {},
   "source": [
    "~~~c\n",
    "#pragma omp parallel\n",
    "      {\n",
    "          unsigned short locAmin=0;\n",
    "          unsigned short locAmax=0;\n",
    "#pragma omp for collapse(2)\n",
    "          for (j = 0; j < astro.height(); j++)\n",
    "              for (int i = 0; i < astro.width(); i++) {\n",
    "                  locAmin = min(locAmin, astro(i, j));\n",
    "                  locAmax = max(locAmax, astro(i, j));\n",
    "              }\n",
    "\n",
    "#pragma omp critical\n",
    "          amin = min(locAmin, amin);\n",
    "          amax = max(locAmax, amax);\n",
    "      }\n",
    "\n",
    "      unsigned short arange = amax - amin;\n",
    "#pragma omp parallel\n",
    "      {\n",
    "#pragma omp for collapse(2)\n",
    "          for (j = 0; j < astro.height(); j++) {\n",
    "              for (int i = 0; i < astro.width(); i++)\n",
    "                  resca(i, j) = (astro(i, j) - amin) * 255 / arange;\n",
    "          }\n",
    "\n",
    "      }\n",
    "~~~"
   ]
  },
  {
   "cell_type": "markdown",
   "metadata": {},
   "source": [
    "### 2.2. reduction"
   ]
  },
  {
   "cell_type": "markdown",
   "metadata": {},
   "source": [
    "Notre premier bloc de boucles imbriquées calcule un minimum et un maximum. Effectuer ce calcul dans chaque *thread* avant de mettre en commun le résultat est une opération très courante. OpenMP permet d'automatiser cette phase grâce à la clause `reduction(op:var)` où `op` est l'opération qu'on souhaite réduire et `var` la variable où stocker le résultat."
   ]
  },
  {
   "cell_type": "raw",
   "metadata": {},
   "source": [
    "Q14. Modifiez votre programme pour simplifier le calcul de `amin` et `amax` grâce à `reduction`.\n",
    "\n",
    "Vérifiez que l'image produite est bien identique à la version séquentielle !\n"
   ]
  },
  {
   "cell_type": "markdown",
   "metadata": {},
   "source": [
    "~~~c\n",
    "#pragma omp parallel\n",
    "      {\n",
    "#pragma omp for collapse(2)  reduction(min:amin) reduction(max:amax) private(i,j)\n",
    "          for (j = 0; j < astro.height(); j++)\n",
    "              for ( i = 0; i < astro.width(); i++) {\n",
    "                  amin = min(amin, astro(i, j));\n",
    "                  amax = max(amax, astro(i, j));\n",
    "              }\n",
    "      }\n",
    "      unsigned short arange = amax - amin;\n",
    "#pragma omp parallel\n",
    "      {\n",
    "#pragma omp for collapse(2) private(i,j)\n",
    "          for (j = 0; j < astro.height(); j++) {\n",
    "              for ( i = 0; i < astro.width(); i++)\n",
    "                  resca(i, j) = (astro(i, j) - amin) * 255 / arange;\n",
    "          }\n",
    "\n",
    "      }\n",
    "    ~~~"
   ]
  },
  {
   "cell_type": "markdown",
   "metadata": {},
   "source": [
    "Enfin, il est possible de contracter les directives `#pragma omp parallel` et `#pragma omp for` lorsqu'elles se suivent en un unique `#pragma omp parallel for`."
   ]
  },
  {
   "cell_type": "raw",
   "metadata": {},
   "source": [
    "Q15. Modifiez votre programme pour que la seule différence entre la version séquentielle et la version parallèle soit l'ajout d'une directive en tête de chaque bloc de boucles.\n",
    "\n",
    "Vérifiez que l'image produite est bien identique à la version séquentielle !\n"
   ]
  },
  {
   "cell_type": "markdown",
   "metadata": {},
   "source": [
    "~~~c\n",
    "#pragma omp parallel for collapse(2)  reduction(min:amin) reduction(max:amax) private(i,j)\n",
    "\n",
    "          for (j = 0; j < astro.height(); j++)\n",
    "              for ( i = 0; i < astro.width(); i++) {\n",
    "                  amin = min(amin, astro(i, j));\n",
    "                  amax = max(amax, astro(i, j));\n",
    "              }\n",
    "      unsigned short arange = amax - amin;\n",
    "#pragma omp parallel for collapse(2) private(i,j)\n",
    "          for (j = 0; j < astro.height(); j++) {\n",
    "              for ( i = 0; i < astro.width(); i++)\n",
    "                  resca(i, j) = (astro(i, j) - amin) * 255 / arange;\n",
    "          }\n",
    "~~~"
   ]
  },
  {
   "cell_type": "markdown",
   "metadata": {},
   "source": [
    "### 2.3. schedule"
   ]
  },
  {
   "cell_type": "markdown",
   "metadata": {},
   "source": [
    "La manière dont les *threads* se partagent les indices impacte les performances du calcul. OpenMP permet de choisir une stratégie de distribution des indices à travers la clause `schedule(S)` où `S` décrit la politique à appliquer. Les stratégies les plus classiques sont :\n",
    " - `schedule(static)` : découpe les indices en autant de blocs de même taille qu'il y a de *threads* ;\n",
    " - `schedule(static,N)` : découpe les indices en blocs de taille `N` et les distribue équitablement et cycliquement entre les *threads*  ;\n",
    " - `schedule(dynamic,N)` : découpe les indices en blocs de taille `N` et les attribue successivement aux *threads* au fur et à mesure qu'ils sont disponibles ;\n",
    " - `schedule(runtime)` : applique la stratégie décrite dans la variable d'environnement `OMP_SCHEDULE`."
   ]
  },
  {
   "cell_type": "markdown",
   "metadata": {},
   "source": [
    "À l'aide des deux variables `OMP_SCHEDULE` et `OMP_NUM_THREADS`, il est possible d'étudier l'influence de la stratégie de distributions d'indices et de chercher les meilleurs paramètres pour une machine donnée. C'est ce que proposent les scripts `bench`, pour collecter des statistiques, et `show`, pour afficher ces données sous forme de courbes de performance."
   ]
  },
  {
   "cell_type": "markdown",
   "metadata": {},
   "source": [
    "Si $T_S$ est le temps de calcul séquentiel et $T_P(p)$ le temps de calcul parallèle pour effectuer une tâche avec $p$ *threads*, on définit l'accélération comme la quantité $S^*(p) = \\frac{T_S}{T_P(p)}$ et l'efficacité comme $E^*(p) = \\frac{S^*(p)}{p}$.\n"
   ]
  },
  {
   "cell_type": "raw",
   "metadata": {},
   "source": [
    "Q16. Modifiez votre programme pour utiliser `schedule(runtime)` sur les deux régions parallèles. Lire la fin du fichier `README.md`. Utilisez les scripts `bench` et `show` pour produire des courbes pertinentes. Il conviendra d'adapter le nombre de *threads*, le nombre d'itérations et l'image utilisée à votre machine.\n"
   ]
  },
  {
   "cell_type": "markdown",
   "metadata": {},
   "source": [
    "Si vous ne disposez pas des bibliothèques pour générer les courbes, vous pouvez les générer dans ce *notebook* en collant le contenu de `stats.csv` puis en exécutant les cellules ci-dessous.\n"
   ]
  },
  {
   "cell_type": "code",
   "execution_count": null,
   "metadata": {},
   "outputs": [],
   "source": [
    "from io import StringIO\n",
    "from ezplot import ezplot"
   ]
  },
  {
   "cell_type": "code",
   "execution_count": null,
   "metadata": {},
   "outputs": [],
   "source": [
    "data=\"\"\"\n",
    "### COLLER A LA PLACE DE CETTE LIGNE LE CONTENU DE stats.csv\n",
    "\"\"\""
   ]
  },
  {
   "cell_type": "code",
   "execution_count": 11,
   "metadata": {},
   "outputs": [
    {
     "ename": "NameError",
     "evalue": "name 'ezplot' is not defined",
     "output_type": "error",
     "traceback": [
      "\u001b[0;31m---------------------------------------------------------------------------\u001b[0m",
      "\u001b[0;31mNameError\u001b[0m                                 Traceback (most recent call last)",
      "\u001b[0;32m<ipython-input-11-53acb8c63d29>\u001b[0m in \u001b[0;36m<module>\u001b[0;34m\u001b[0m\n\u001b[0;32m----> 1\u001b[0;31m \u001b[0mezplot\u001b[0m\u001b[0;34m(\u001b[0m\u001b[0mStringIO\u001b[0m\u001b[0;34m(\u001b[0m\u001b[0mdata\u001b[0m\u001b[0;34m)\u001b[0m\u001b[0;34m,\u001b[0m\u001b[0;34m[\u001b[0m\u001b[0;34m'bs'\u001b[0m\u001b[0;34m]\u001b[0m\u001b[0;34m)\u001b[0m\u001b[0;34m\u001b[0m\u001b[0;34m\u001b[0m\u001b[0m\n\u001b[0m",
      "\u001b[0;31mNameError\u001b[0m: name 'ezplot' is not defined"
     ]
    }
   ],
   "source": [
    "ezplot(StringIO(data),['bs'])"
   ]
  },
  {
   "cell_type": "code",
   "execution_count": 12,
   "metadata": {},
   "outputs": [
    {
     "ename": "NameError",
     "evalue": "name 'ezplot' is not defined",
     "output_type": "error",
     "traceback": [
      "\u001b[0;31m---------------------------------------------------------------------------\u001b[0m",
      "\u001b[0;31mNameError\u001b[0m                                 Traceback (most recent call last)",
      "\u001b[0;32m<ipython-input-12-10dcf3d46407>\u001b[0m in \u001b[0;36m<module>\u001b[0;34m\u001b[0m\n\u001b[0;32m----> 1\u001b[0;31m \u001b[0mezplot\u001b[0m\u001b[0;34m(\u001b[0m\u001b[0mStringIO\u001b[0m\u001b[0;34m(\u001b[0m\u001b[0mdata\u001b[0m\u001b[0;34m)\u001b[0m\u001b[0;34m,\u001b[0m\u001b[0;34m[\u001b[0m\u001b[0;34m'schedule'\u001b[0m\u001b[0;34m]\u001b[0m\u001b[0;34m)\u001b[0m\u001b[0;34m\u001b[0m\u001b[0;34m\u001b[0m\u001b[0m\n\u001b[0m",
      "\u001b[0;31mNameError\u001b[0m: name 'ezplot' is not defined"
     ]
    }
   ],
   "source": [
    "ezplot(StringIO(data),['schedule'])"
   ]
  },
  {
   "cell_type": "raw",
   "metadata": {},
   "source": [
    "CHECK-POINT #2 <<<<<<< LORSQUE VOUS ATTEIGNEZ CETTE ENDROIT DE LA FICHE, APPELEZ VOTRE CHARGÉ DE TP ! >>>>>>>>"
   ]
  },
  {
   "cell_type": "markdown",
   "metadata": {},
   "source": [
    "## Références\n",
    "\n",
    " 1. [Spécification OpenMP](https://www.openmp.org/specifications/)\n",
    " 1. [OpenMP Reference Guide](https://www.openmp.org/resources/refguides/)\n",
    " 1. [Exemples de statistiques collectées pour la partie 2](?from=progpar/perf.ipynb&module=progpar/ezplot.py) !"
   ]
  },
  {
   "cell_type": "code",
   "execution_count": null,
   "metadata": {},
   "outputs": [],
   "source": [
    "default(none)\n",
    "permet de forcer a dire quelles variables sont shared, private..."
   ]
  }
 ],
 "metadata": {
  "kernelspec": {
   "display_name": "Python 3",
   "language": "python",
   "name": "python3"
  },
  "language_info": {
   "codemirror_mode": {
    "name": "ipython",
    "version": 3
   },
   "file_extension": ".py",
   "mimetype": "text/x-python",
   "name": "python",
   "nbconvert_exporter": "python",
   "pygments_lexer": "ipython3",
   "version": "3.8.10"
  }
 },
 "nbformat": 4,
 "nbformat_minor": 2
}
